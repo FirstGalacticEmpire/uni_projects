{
 "cells": [
  {
   "cell_type": "markdown",
   "metadata": {},
   "source": [
    "# Lab 3 - The Matrix Form and The Duality Theory"
   ]
  },
  {
   "cell_type": "markdown",
   "metadata": {},
   "source": [
    "<b>Information on group members:</b><br>\n",
    "1) 144091, Bartosz Maślanka <br>\n",
    "2) Student ID, Kajetan Kubik"
   ]
  },
  {
   "cell_type": "code",
   "execution_count": 1,
   "metadata": {},
   "outputs": [],
   "source": [
    "from pulp import *  \n",
    "import numpy as np\n",
    "import pandas as pd\n",
    "import itertools\n",
    "from IPython.display import display\n",
    "import numpy.ma as ma\n"
   ]
  },
  {
   "cell_type": "markdown",
   "metadata": {},
   "source": [
    "# 1) The Matrix Form - Fundamental Insight (finish this part to get 3.0)"
   ]
  },
  {
   "cell_type": "markdown",
   "metadata": {},
   "source": [
    "1.1) Given is the below (primal) linear problem:"
   ]
  },
  {
   "cell_type": "markdown",
   "metadata": {},
   "source": [
    "primal problem:<br>\n",
    "MAXIMIZE<br>\n",
    "4*x1 + 2*x2 + 3*x3 <br>\n",
    "\n",
    "SUBJECT TO<br>\n",
    "1_constraint: x1 + x2 <= 10<br>\n",
    "2_constraint: 2*x2 + x3 <= 12<br>\n",
    "3_constraint: 3*x1 + 2*x3 <= 15<br>\n",
    "4_constraint: x1 + x2 + x3 <= 20<br>\n",
    "\n",
    "VARIABLES<br>\n",
    "x1 Continuous<br>\n",
    "x2 Continuous<br>\n",
    "x3 Continuous<br>"
   ]
  },
  {
   "cell_type": "markdown",
   "metadata": {},
   "source": [
    "1.2) Use the PuLP library to solve the above problem. Identify the optimal solution: the values for basic variables and the corresponding value for the objective function."
   ]
  },
  {
   "cell_type": "code",
   "execution_count": 2,
   "metadata": {},
   "outputs": [
    {
     "data": {
      "text/plain": [
       "part_1_problem:\n",
       "MAXIMIZE\n",
       "4*x_1 + 2*x_2 + 3*x_3 + 0\n",
       "SUBJECT TO\n",
       "LE1: x_1 + x_2 <= 10\n",
       "\n",
       "LE2: 2 x_2 + x_3 <= 12\n",
       "\n",
       "LE3: 3 x_1 + 2 x_3 <= 15\n",
       "\n",
       "LE4: x_1 + x_2 + x_3 <= 20\n",
       "\n",
       "VARIABLES\n",
       "x_1 Continuous\n",
       "x_2 Continuous\n",
       "x_3 Continuous"
      ]
     },
     "execution_count": 2,
     "metadata": {},
     "output_type": "execute_result"
    }
   ],
   "source": [
    "model = LpProblem(name=\"part_1_problem\", sense=LpMaximize)\n",
    "var_names = [\"1\", \"2\", \"3\"]\n",
    "x = LpVariable.dicts(\"x\", var_names, 0)\n",
    "const_names = [\"LE1\", \"LE2\", \"LE3\", \"LE4\"]\n",
    "sense = [-1, -1, -1, -1]\n",
    "coefs = [[1,1,0],\n",
    "         [0,2,1],\n",
    "         [3,0,2],\n",
    "         [1,1,1]]\n",
    "rhs = [10, 12, 15, 20] \n",
    "for c, s, r, cn in zip(coefs, sense, rhs, const_names):\n",
    "    expr = lpSum([x[var_names[i]] * c[i] for i in range(3)])\n",
    "    model += LpConstraint(e=expr, sense = s, name = cn, rhs = r)\n",
    "obj_coefs = [4,2,3]   \n",
    "model += lpSum([x[var_names[i]] * obj_coefs[i] for i in range(3)])\n",
    "model"
   ]
  },
  {
   "cell_type": "code",
   "execution_count": 3,
   "metadata": {},
   "outputs": [
    {
     "name": "stdout",
     "output_type": "stream",
     "text": [
      "status: 1, Optimal\n",
      "objective: 31.428571379999998\n",
      "LE1: 0.0\n",
      "LE2: 5.999999985739635e-08\n",
      "LE3: -7.999999906971311e-08\n",
      "LE4: -9.14285714\n"
     ]
    }
   ],
   "source": [
    "status = model.solve()\n",
    "print(f\"status: {model.status}, {LpStatus[model.status]}\")\n",
    "print(f\"objective: {model.objective.value()}\")\n",
    "for name, constraint in model.constraints.items():  \n",
    "    print(f\"{name}: {constraint.value()}\")"
   ]
  },
  {
   "cell_type": "code",
   "execution_count": 4,
   "metadata": {},
   "outputs": [
    {
     "name": "stdout",
     "output_type": "stream",
     "text": [
      "1 = 4.4285714\n",
      "2 = 5.5714286\n",
      "3 = 0.85714286\n"
     ]
    }
   ],
   "source": [
    "for n in var_names: print(n,'=',x[n].value())\n"
   ]
  },
  {
   "cell_type": "markdown",
   "metadata": {},
   "source": [
    "1.3) In this exercise, you are asked to identify ALL basic (feasible and not) solutions to the above problem. We will do this naively. Specifically, you are asked to use the fundamental insight to build a final simplex tableau for each possible base. Therefore, you need first to initialize the data: c, b, A matrixes, and it is suggested to initialize the auxiliary matrix M defined as M = A + (concatenate) I (identity matrix). Note that the problem should be formulated in the augmented form. Then, you have to iterate over each possible base B, compute B-1, and other relevant parts for the simplex tableau.<br><br>\n",
    "a) Identify the optimal solution using the optimality condition; print it (Z value and values for basic variables); compare thus derived solution with the optimum found using the PuLP library (obviously, both solutions should be the same). <br>\n",
    "b) Count the number of feasible and infeasible solutions. How many (all) basic solutions to the problem can be identified? <br><br>\n",
    "It is suggested to use the NumPy library for performing matrix operations. "
   ]
  },
  {
   "cell_type": "code",
   "execution_count": 5,
   "metadata": {},
   "outputs": [],
   "source": [
    "c = np.array([4,2,3])\n",
    "b = np.array([10,12,15,20])\n",
    "A = np.array([[1,1,0],\n",
    "             [0,2,1],\n",
    "             [3,0,2],\n",
    "             [1,1,1]])\n",
    "M = np.concatenate((A,np.identity(4)), axis=1)\n"
   ]
  },
  {
   "cell_type": "code",
   "execution_count": 6,
   "metadata": {},
   "outputs": [
    {
     "data": {
      "text/plain": [
       "array([[1., 1., 0., 1., 0., 0., 0.],\n",
       "       [0., 2., 1., 0., 1., 0., 0.],\n",
       "       [3., 0., 2., 0., 0., 1., 0.],\n",
       "       [1., 1., 1., 0., 0., 0., 1.]])"
      ]
     },
     "execution_count": 6,
     "metadata": {},
     "output_type": "execute_result"
    }
   ],
   "source": [
    "M"
   ]
  },
  {
   "cell_type": "markdown",
   "metadata": {},
   "source": [
    "<b> Important note: the below is just a proposition. You can solve the problem in your own way. </b>\n",
    "\n",
    "You can define an auxiliary method constructing a final simplex tableau for a given base.  Here, \"base\" is a list of columns (integers) for the base. Note that the functions in python can return multiple objects and you can use this functionality to return<br>\n",
    "- the inversed base<br>\n",
    "- coefficients in the row 0 for slack variables<br>\n",
    "- right side values (except the objective function value)<br>\n",
    "- the objective function value<br>\n",
    "- the coefficients for decision variables in row 0 <br>\n",
    "- the coefficients for decision variables in rows 1+<br>\n",
    "\n",
    "Note that if BI cannot be built (it is possible), the method may return None in order to notify the executive method about this exception. \n",
    "\n"
   ]
  },
  {
   "cell_type": "code",
   "execution_count": 10,
   "metadata": {},
   "outputs": [],
   "source": [
    "def getFinalTableau(base, c, b, A, M):\n",
    "    new_c = c * -1\n",
    "    rs = np.concatenate(([0], b))\n",
    "    tabs = []\n",
    "    tableau = np.vstack((np.concatenate((new_c, [0, 0, 0, 0])), M))\n",
    "    tableau = np.append(tableau, rs.reshape((-1,1)),axis=1)\n",
    "    tabs.append(tableau.copy())\n",
    "    check_base = set([1,2,3,4,5,6,7])\n",
    "    check_base.difference_update(set(base))\n",
    "    while check_base:\n",
    "        pivot_col = np.argmin(ma.masked_where(tableau[0]==0, tableau[0]))\n",
    "        mrt = []\n",
    "        last_item = len(tableau[0]) - 1\n",
    "        for i in range(len(tableau)):\n",
    "            if i == pivot_col or tableau[i][last_item] / tableau[i][pivot_col] < 0:\n",
    "                mrt.append(np.inf)\n",
    "            else:\n",
    "                mrt.append(tableau[i][last_item] / tableau[i][pivot_col])\n",
    "        selected_variable = np.argmin(mrt)\n",
    "        tableau[selected_variable] = tableau[selected_variable] / tableau[selected_variable][pivot_col]\n",
    "        base[selected_variable-1] = pivot_col+1\n",
    "        for i in range(len(tableau)):\n",
    "            if i == selected_variable:\n",
    "                continue\n",
    "            pivot_num = tableau[i][pivot_col] * -1\n",
    "            tableau[i] = (tableau[selected_variable] * pivot_num) + tableau[i]\n",
    "        \n",
    "        tabs.append(tableau.copy())\n",
    "        check_base.difference_update(set(base))\n",
    "\n",
    "    print(base)\n",
    "    return tabs,base\n"
   ]
  },
  {
   "cell_type": "code",
   "execution_count": 11,
   "metadata": {},
   "outputs": [
    {
     "name": "stdout",
     "output_type": "stream",
     "text": [
      "[3, 2, 1, 7]\n"
     ]
    },
    {
     "name": "stderr",
     "output_type": "stream",
     "text": [
      "<ipython-input-10-4d20d5ee04e1>:15: RuntimeWarning: divide by zero encountered in double_scalars\n",
      "  if i == pivot_col or tab[i][last_item] / tab[i][pivot_col] < 0:\n",
      "<ipython-input-10-4d20d5ee04e1>:18: RuntimeWarning: divide by zero encountered in double_scalars\n",
      "  mrt.append(tab[i][last_item] / tab[i][pivot_col])\n"
     ]
    }
   ],
   "source": [
    "base = [4,5,6,7]\n",
    "results,base = getFinalTableau(base, c, b, A, M)"
   ]
  },
  {
   "cell_type": "code",
   "execution_count": 12,
   "metadata": {},
   "outputs": [
    {
     "name": "stdout",
     "output_type": "stream",
     "text": [
      "[[-4. -2. -3.  0.  0.  0.  0.  0.]\n",
      " [ 1.  1.  0.  1.  0.  0.  0. 10.]\n",
      " [ 0.  2.  1.  0.  1.  0.  0. 12.]\n",
      " [ 3.  0.  2.  0.  0.  1.  0. 15.]\n",
      " [ 1.  1.  1.  0.  0.  0.  1. 20.]]\n",
      "\n",
      "\n",
      "[[ 0.   -2.   -0.33  0.    0.    1.33  0.   20.  ]\n",
      " [ 0.    1.   -0.67  1.    0.   -0.33  0.    5.  ]\n",
      " [ 0.    2.    1.    0.    1.    0.    0.   12.  ]\n",
      " [ 1.    0.    0.67  0.    0.    0.33  0.    5.  ]\n",
      " [ 0.    1.    0.33  0.    0.   -0.33  1.   15.  ]]\n",
      "\n",
      "\n",
      "[[ 0.    0.    0.67  0.    1.    1.33  0.   32.  ]\n",
      " [ 0.    0.   -1.17  1.   -0.5  -0.33  0.   -1.  ]\n",
      " [ 0.    1.    0.5   0.    0.5   0.    0.    6.  ]\n",
      " [ 1.    0.    0.67  0.    0.    0.33  0.    5.  ]\n",
      " [ 0.    0.   -0.17  0.   -0.5  -0.33  1.    9.  ]]\n",
      "\n",
      "\n",
      "[[ 0.    0.    0.    0.57  0.71  1.14  0.   31.43]\n",
      " [-0.   -0.    1.   -0.86  0.43  0.29 -0.    0.86]\n",
      " [ 0.    1.    0.    0.43  0.29 -0.14  0.    5.57]\n",
      " [ 1.    0.    0.    0.57 -0.29  0.14  0.    4.43]\n",
      " [ 0.    0.    0.   -0.14 -0.43 -0.29  1.    9.14]]\n",
      "\n",
      "\n"
     ]
    }
   ],
   "source": [
    "for i in results:\n",
    "    print(np.round(i,decimals=2))\n",
    "    print('\\n')"
   ]
  },
  {
   "cell_type": "code",
   "execution_count": 13,
   "metadata": {},
   "outputs": [
    {
     "name": "stdout",
     "output_type": "stream",
     "text": [
      "3 = 0.8571428571428572\n",
      "2 = 5.571428571428571\n",
      "1 = 4.428571428571429\n"
     ]
    }
   ],
   "source": [
    "for i in range(len(base)-1):\n",
    "    print(base[i],'=',results[-1][:,-1][np.argmax(results[-1][:,base[i]-1])])"
   ]
  },
  {
   "cell_type": "markdown",
   "metadata": {},
   "source": [
    "## 2) The Duality Theory (finish this part + part 1 + to get 5.0)"
   ]
  },
  {
   "cell_type": "markdown",
   "metadata": {},
   "source": [
    "2.1) Model the dual problem to the above solved primal one, using the PuLP library. Then, solve it and compare the derived optimum with the optimum for the primal problem. Are they equal?"
   ]
  },
  {
   "cell_type": "code",
   "execution_count": null,
   "metadata": {},
   "outputs": [],
   "source": [
    "### Model here:\n",
    "### TODO\n"
   ]
  },
  {
   "cell_type": "code",
   "execution_count": null,
   "metadata": {},
   "outputs": [],
   "source": [
    "### Solve here:\n",
    "### TODO\n"
   ]
  },
  {
   "cell_type": "markdown",
   "metadata": {},
   "source": [
    "2.2) This exercise is based on the exercise 1.3 (copy & paste solution). Here, you are asked to iterate over all basic solutions (as in 1.3) and store them along with their complementary dual solutions. Solutions should be stored in the PRIMAL_DUAL_SOLUTIONS list and sorted according to the objective value Z = W. Analyze their optimality and feasibility. Finally, you have to display all basic solutions wlong with their complementary solutions (you can use the provided piece of code written using the pandas library). <br><br>\n",
    "\n",
    "PRIMAL_DUAL_SOLUTIONS is defined as a table consisting of n rows, where n is the number of basic solutions to the problem, and 21 columns. The columns are defined as follows:<br>\n",
    "Col. 1: The objective value Z<br>\n",
    "Col. 2-4: The values for decision variables (primal solution)<br>\n",
    "Col. 5-8: The values for slack variables (primal solution)<br>\n",
    "Col. 9: P_F = Y or N, Y/N = primal solution is feasible/infeasible<br>\n",
    "Col. 10: P_O = Y or N, Y/N = primal solution is optimal/is not optimal<br>\n",
    "Col. 11: P_STATE = -/suboptimal/superoptimal/optimal; depends on P_F and P_O (primal)<br>\n",
    "Col. 12: D_STATE = -/suboptimal/superoptimal/optimal; depends on D_F and D_O (dual)<br>\n",
    "Col. 13: D_F = Y or N, Y/N = dual solution is feasible/infeasible<br>\n",
    "Col. 14: D_O = Y or N, Y/N = dual solution is optimal/is not optimal<br>\n",
    "Col. 15-18: The values for decision variables (dual solution)<br>\n",
    "Col. 19-21: The values for surplus variables (dual solution)<br><br>\n",
    "\n",
    "Reminder: sort solutions according to Z; analyze how their states change with the increase of Z."
   ]
  },
  {
   "cell_type": "code",
   "execution_count": null,
   "metadata": {},
   "outputs": [],
   "source": [
    "### TODO \n",
    "\n",
    "### DISPLAY STORED PAIRS OF SOLUTIONS\n",
    "#df = pd.DataFrame(PRIMAL_DUAL_SOLUTIONS, columns = [\"Z\", \"x1\", \"x2\", \"x3\", \"slack1\", \"slack2\", \"slack3\", \"slack4\", \"P_F\", \"P_O\", \"P_STATE\", \"D_STATE\", \"D_F\", \"F_O\",\n",
    "#                                                   \"y1\", \"y2\", \"y3\", \"y4\", \"sur1\", \"sur2\", \"sur3\"])\n",
    "\n",
    "#display(df.style.set_properties(**{\n",
    "#        'width': '230px',\n",
    "#        'max-width': '230px',\n",
    "#    }))"
   ]
  },
  {
   "cell_type": "code",
   "execution_count": null,
   "metadata": {},
   "outputs": [],
   "source": []
  }
 ],
 "metadata": {
  "kernelspec": {
   "display_name": "Python 3 (ipykernel)",
   "language": "python",
   "name": "python3"
  },
  "language_info": {
   "codemirror_mode": {
    "name": "ipython",
    "version": 3
   },
   "file_extension": ".py",
   "mimetype": "text/x-python",
   "name": "python",
   "nbconvert_exporter": "python",
   "pygments_lexer": "ipython3",
   "version": "3.9.6"
  }
 },
 "nbformat": 4,
 "nbformat_minor": 4
}
