{
 "cells": [
  {
   "cell_type": "markdown",
   "metadata": {},
   "source": [
    "# Lab 7 - Dynamic Programming - Power Plant"
   ]
  },
  {
   "cell_type": "markdown",
   "metadata": {},
   "source": [
    "Information on group members:\n",
    "\n",
    "1) 136633, Marek Szydłowski <br>\n",
    "2) 145464, Jan Gruszczyński"
   ]
  },
  {
   "cell_type": "code",
   "execution_count": 109,
   "metadata": {},
   "outputs": [],
   "source": [
    "%matplotlib inline\n",
    "\n",
    "from sympy.interactive import printing\n",
    "printing.init_printing(use_latex=True)\n",
    "\n",
    "import matplotlib.pyplot as plt\n",
    "import sympy as sym\n",
    "from sympy import *\n",
    "import numpy as np"
   ]
  },
  {
   "cell_type": "markdown",
   "metadata": {},
   "source": [
    "This exercise is inspired by Ex. 2 in the Exercises.pdf file. You have to set operating levels for a power plant for consecutive two-months in a way that minimizes the operating costs (using dynamic programming). Before going to the exercise, it is recommended to get acquainted with a Python library for symbolic calculations - SymPy, which can be particularly helpful for solving this task. "
   ]
  },
  {
   "cell_type": "markdown",
   "metadata": {},
   "source": [
    "# Mini tutorial on SymPy"
   ]
  },
  {
   "cell_type": "markdown",
   "metadata": {},
   "source": [
    "SymPy is a library for performing symbolic calculations instead of numerical. It allows defining symbols, functions, expressions, equations and performing various operations on them. The examples of such operations that can help solve this exercise are given below. Note that due to lines: <br><br>\n",
    "from sympy.interactive import printing <br>\n",
    "printing.init_printing(use_latex=True)  <br><br>\n",
    "located in the first cell of this notebook, the symbols can be printed using latex, improving hence readability"
   ]
  },
  {
   "cell_type": "markdown",
   "metadata": {},
   "source": [
    "<b> Defining symbols: </b>"
   ]
  },
  {
   "cell_type": "code",
   "execution_count": 110,
   "metadata": {},
   "outputs": [],
   "source": [
    "z1, z2 = symbols(\"z1 z2\")\n",
    "# or z = symbols(\"z1 z2\")"
   ]
  },
  {
   "cell_type": "markdown",
   "metadata": {},
   "source": [
    "<b> Printing a symbol using Latex: </b>"
   ]
  },
  {
   "cell_type": "code",
   "execution_count": 111,
   "metadata": {},
   "outputs": [
    {
     "data": {
      "image/png": "[encoded data removed]",
      "text/latex": [
       "$\\displaystyle z_{1}$"
      ],
      "text/plain": [
       "z₁"
      ]
     },
     "execution_count": 111,
     "metadata": {},
     "output_type": "execute_result"
    }
   ],
   "source": [
    "z1"
   ]
  },
  {
   "cell_type": "markdown",
   "metadata": {},
   "source": [
    "<b> Defining an expression: </b>"
   ]
  },
  {
   "cell_type": "code",
   "execution_count": 112,
   "metadata": {},
   "outputs": [
    {
     "data": {
      "image/png": "[encoded data removed]",
      "text/latex": [
       "$\\displaystyle 2 z_{1} + \\left(10 - z_{2}\\right)^{2}$"
      ],
      "text/plain": [
       "                2\n",
       "2⋅z₁ + (10 - z₂) "
      ]
     },
     "execution_count": 112,
     "metadata": {},
     "output_type": "execute_result"
    }
   ],
   "source": [
    "2*z1 + (10-z2)**2"
   ]
  },
  {
   "cell_type": "markdown",
   "metadata": {},
   "source": [
    "<b>Expanding the expression:</b>"
   ]
  },
  {
   "cell_type": "code",
   "execution_count": 113,
   "metadata": {},
   "outputs": [
    {
     "data": {
      "image/png": "[encoded data removed]",
      "text/latex": [
       "$\\displaystyle 2 z_{1} + z_{2}^{2} - 20 z_{2} + 100$"
      ],
      "text/plain": [
       "         2              \n",
       "2⋅z₁ + z₂  - 20⋅z₂ + 100"
      ]
     },
     "execution_count": 113,
     "metadata": {},
     "output_type": "execute_result"
    }
   ],
   "source": [
    "expand(2*z1 + (10-z2)**2)"
   ]
  },
  {
   "cell_type": "markdown",
   "metadata": {},
   "source": [
    "<b> Simplifying the expression:</b>"
   ]
  },
  {
   "cell_type": "code",
   "execution_count": 114,
   "metadata": {},
   "outputs": [
    {
     "data": {
      "image/png": "[encoded data removed]",
      "text/latex": [
       "$\\displaystyle - z_{1}^{2} - 8 z_{1} + z_{2}^{2} - 20 z_{2} + 75$"
      ],
      "text/plain": [
       "    2            2             \n",
       "- z₁  - 8⋅z₁ + z₂  - 20⋅z₂ + 75"
      ]
     },
     "execution_count": 114,
     "metadata": {},
     "output_type": "execute_result"
    }
   ],
   "source": [
    "e = simplify(expand(2*z1 + (10-z2)**2 - (5+z1)**2))\n",
    "e"
   ]
  },
  {
   "cell_type": "markdown",
   "metadata": {},
   "source": [
    "<b> Substituting a variable with a value in the expression:</b>"
   ]
  },
  {
   "cell_type": "code",
   "execution_count": 115,
   "metadata": {},
   "outputs": [
    {
     "name": "stdout",
     "output_type": "stream",
     "text": [
      "20.0000000000000\n"
     ]
    }
   ],
   "source": [
    "e = 2*z1 + (10-z1)**2\n",
    "v = e.evalf(subs={z1: 10})\n",
    "print(v)"
   ]
  },
  {
   "cell_type": "markdown",
   "metadata": {},
   "source": [
    "<b> Substituting a variable with another variable or value:</b>"
   ]
  },
  {
   "cell_type": "code",
   "execution_count": 116,
   "metadata": {},
   "outputs": [
    {
     "data": {
      "image/png": "[encoded data removed]",
      "text/latex": [
       "$\\displaystyle 2 z_{1} + \\left(10 - z_{1}\\right)^{2}$"
      ],
      "text/plain": [
       "                2\n",
       "2⋅z₁ + (10 - z₁) "
      ]
     },
     "execution_count": 116,
     "metadata": {},
     "output_type": "execute_result"
    }
   ],
   "source": [
    "e = 2*z1 + (10-z2)**2\n",
    "e.subs(z2, z1)"
   ]
  },
  {
   "cell_type": "markdown",
   "metadata": {},
   "source": [
    "<b> Finding a (partial) derivative: </b>"
   ]
  },
  {
   "cell_type": "code",
   "execution_count": 117,
   "metadata": {},
   "outputs": [
    {
     "data": {
      "image/png": "[encoded data removed]",
      "text/latex": [
       "$\\displaystyle 2 z_{2} - 20$"
      ],
      "text/plain": [
       "2⋅z₂ - 20"
      ]
     },
     "execution_count": 117,
     "metadata": {},
     "output_type": "execute_result"
    }
   ],
   "source": [
    "e = 2*z1 + (10-z2)**2\n",
    "d = diff(e, z2)\n",
    "d"
   ]
  },
  {
   "cell_type": "markdown",
   "metadata": {},
   "source": [
    "<b> Solving an equation: </b>"
   ]
  },
  {
   "cell_type": "code",
   "execution_count": 118,
   "metadata": {},
   "outputs": [
    {
     "name": "stdout",
     "output_type": "stream",
     "text": [
      "[10]\n"
     ]
    }
   ],
   "source": [
    "e = 2*z1 + (10-z2)**2\n",
    "d = diff(e, z2)\n",
    "v = solve(Eq(d, 0), z2)\n",
    "print(v)"
   ]
  },
  {
   "cell_type": "markdown",
   "metadata": {},
   "source": [
    "# Exercise"
   ]
  },
  {
   "cell_type": "markdown",
   "metadata": {},
   "source": [
    "Below given is the data. In contrast to the exercise shown in the Exercise.pdf file, note that all pairs of all 12 months are considered stages in this notebook. "
   ]
  },
  {
   "cell_type": "code",
   "execution_count": 119,
   "metadata": {},
   "outputs": [
    {
     "data": {
      "image/png": "[encoded data removed]",
      "text/plain": [
       "<Figure size 432x288 with 1 Axes>"
      ]
     },
     "metadata": {
      "needs_background": "light"
     },
     "output_type": "display_data"
    }
   ],
   "source": [
    "months = [\"Jan-Feb\", \"Mar-Apr\", \"May-Jun\", \"Jul-Aug\", \"Sep-Oct\", \"Nov-Dec\"]\n",
    "\n",
    "### min requested operating level (1-10) + allowable bounds \n",
    "request = [8,5,2,4,7,10]\n",
    "bounds = [[request[i], 10] for i in range(6)]\n",
    "bounds.reverse() #Reversing bounds\n",
    "\n",
    "plt.plot([i for i in range(12)], request + request, label='linear')\n",
    "plt.show()"
   ]
  },
  {
   "cell_type": "markdown",
   "metadata": {},
   "source": [
    "<b> Cost: </b> Working above the required level - cost in a generic form:"
   ]
  },
  {
   "cell_type": "code",
   "execution_count": 120,
   "metadata": {},
   "outputs": [
    {
     "data": {
      "image/png": "[encoded data removed]",
      "text/latex": [
       "$\\displaystyle m_{i1} \\left(- r_{i} + x_{i}\\right)$"
      ],
      "text/plain": [
       "m_{i1}⋅(-rᵢ + xᵢ)"
      ]
     },
     "execution_count": 120,
     "metadata": {},
     "output_type": "execute_result"
    }
   ],
   "source": [
    "xi, ri, mi1 = symbols(\"x_i r_i m_{i1}\") \n",
    "cost_above = mi1*(xi-ri)\n",
    "cost_above #mi1 = multiplicator, #xi = operating level #ri = requirement (lower bound)"
   ]
  },
  {
   "cell_type": "markdown",
   "metadata": {},
   "source": [
    "You can do c = cost_above.copy() and then c.subs, replacing variables with values (m, p, r) or other variables (r): "
   ]
  },
  {
   "cell_type": "code",
   "execution_count": 121,
   "metadata": {},
   "outputs": [
    {
     "data": {
      "image/png": "[encoded data removed]",
      "text/latex": [
       "$\\displaystyle x_{1} - 100$"
      ],
      "text/plain": [
       "x₁ - 100"
      ]
     },
     "execution_count": 121,
     "metadata": {},
     "output_type": "execute_result"
    }
   ],
   "source": [
    "x1 = symbols(\"x1\") \n",
    "c = cost_above.copy()\n",
    "c = c.subs(xi, x1)\n",
    "c = c.subs(mi1, 1)\n",
    "c = c.subs(ri, 100)\n",
    "c"
   ]
  },
  {
   "cell_type": "markdown",
   "metadata": {},
   "source": [
    "Below are provided m parameter values for each month:"
   ]
  },
  {
   "cell_type": "code",
   "execution_count": 122,
   "metadata": {},
   "outputs": [],
   "source": [
    "mv1 = [2, 8, 10, 12, 10, 6 ]\n",
    "mv1.reverse()"
   ]
  },
  {
   "cell_type": "markdown",
   "metadata": {},
   "source": [
    "<b> Cost: </b> Chaging the operating level - cost in a generic form:"
   ]
  },
  {
   "cell_type": "code",
   "execution_count": 123,
   "metadata": {},
   "outputs": [
    {
     "data": {
      "image/png": "[encoded data removed]",
      "text/latex": [
       "$\\displaystyle m_{i2} \\left(- s_{i} + x_{i}\\right)^{p_{i}}$"
      ],
      "text/plain": [
       "                    pᵢ\n",
       "m_{i2}⋅(-s_{i} + xᵢ)  "
      ]
     },
     "execution_count": 123,
     "metadata": {},
     "output_type": "execute_result"
    }
   ],
   "source": [
    "si, mi2, pi = symbols(\"s_{i} m_{i2} p_i\") \n",
    "cost_change = mi2*(xi-si)**pi\n",
    "cost_change #mi2 = multiplicator, #pi = exponent #xi = operating level (i-th month) #s_{i} = state: operating level ((i-1)-th month)\n",
    "cost_change"
   ]
  },
  {
   "cell_type": "markdown",
   "metadata": {},
   "source": [
    "Below are provided m and p parameter values for each month:"
   ]
  },
  {
   "cell_type": "code",
   "execution_count": 124,
   "metadata": {},
   "outputs": [],
   "source": [
    "mv2 = [6, 4, 1, 1, 3, 5]\n",
    "mv2.reverse()\n",
    "pv = [2, 2, 2, 2, 2, 2]\n",
    "pv.reverse()"
   ]
  },
  {
   "cell_type": "markdown",
   "metadata": {},
   "source": [
    "# Solution:"
   ]
  },
  {
   "cell_type": "markdown",
   "metadata": {},
   "source": [
    "Apart from finding optimal operating levels for each month, plot these values along with the lower bounds for each month in order to show how they change in time.<br><br>Hints:<br>\n",
    "- the optimal cost = 135.42<br>\n",
    "- there is no situation when the minima for first derivatives are outside allowable bounds (but test it anyway)<br><br>\n",
    "\n",
    "After obtaining and plotting the solution, check what would happen is you change the mv1[2] parameter to 5. "
   ]
  },
  {
   "cell_type": "code",
   "execution_count": 180,
   "metadata": {
    "scrolled": true
   },
   "outputs": [
    {
     "data": {
      "image/png": "[encoded data removed]",
      "text/latex": [
       "$\\displaystyle m_{i1} \\left(- r_{i} + x_{i}\\right) + m_{i2} \\left(- s_{i} + x_{i}\\right)^{p_{i}}$"
      ],
      "text/plain": [
       "                                        pᵢ\n",
       "m_{i1}⋅(-rᵢ + xᵢ) + m_{i2}⋅(-s_{i} + xᵢ)  "
      ]
     },
     "metadata": {},
     "output_type": "display_data"
    },
    {
     "data": {
      "image/png": "[encoded data removed]",
      "text/latex": [
       "$\\displaystyle 5 \\left(10 - s_{6}\\right)^{2}$"
      ],
      "text/plain": [
       "              2\n",
       "5⋅(10 - s_{6}) "
      ]
     },
     "metadata": {},
     "output_type": "display_data"
    },
    {
     "name": "stdout",
     "output_type": "stream",
     "text": [
      "-----\n"
     ]
    },
    {
     "data": {
      "image/png": "[encoded data removed]",
      "text/latex": [
       "$\\displaystyle m_{i1} \\left(- r_{i} + x_{i}\\right) + m_{i2} \\left(- s_{i} + x_{i}\\right)^{p_{i}} + 5 \\left(10 - s_{6}\\right)^{2}$"
      ],
      "text/plain": [
       "                                        pᵢ                 2\n",
       "m_{i1}⋅(-rᵢ + xᵢ) + m_{i2}⋅(-s_{i} + xᵢ)   + 5⋅(10 - s_{6}) "
      ]
     },
     "metadata": {},
     "output_type": "display_data"
    },
    {
     "data": {
      "image/png": "[encoded data removed]",
      "text/latex": [
       "$\\displaystyle \\frac{15 s_{5}^{2}}{8} - \\frac{135 s_{5}}{4} + \\frac{1415}{8}$"
      ],
      "text/plain": [
       "        2                   \n",
       "15⋅s_{5}    135⋅s_{5}   1415\n",
       "───────── - ───────── + ────\n",
       "    8           4        8  "
      ]
     },
     "metadata": {},
     "output_type": "display_data"
    },
    {
     "name": "stdout",
     "output_type": "stream",
     "text": [
      "-----\n"
     ]
    },
    {
     "data": {
      "image/png": "[encoded data removed]",
      "text/latex": [
       "$\\displaystyle m_{i1} \\left(- r_{i} + x_{i}\\right) + m_{i2} \\left(- s_{i} + x_{i}\\right)^{p_{i}} + \\frac{15 s_{5}^{2}}{8} - \\frac{135 s_{5}}{4} + \\frac{1415}{8}$"
      ],
      "text/plain": [
       "                                                     2                   \n",
       "                                        pᵢ   15⋅s_{5}    135⋅s_{5}   1415\n",
       "m_{i1}⋅(-rᵢ + xᵢ) + m_{i2}⋅(-s_{i} + xᵢ)   + ───────── - ───────── + ────\n",
       "                                                 8           4        8  "
      ]
     },
     "metadata": {},
     "output_type": "display_data"
    },
    {
     "data": {
      "image/png": "[encoded data removed]",
      "text/latex": [
       "$\\displaystyle \\frac{15 s_{4}^{2}}{23} - \\frac{174 s_{4}}{23} + \\frac{2018}{23}$"
      ],
      "text/plain": [
       "        2                   \n",
       "15⋅s_{4}    174⋅s_{4}   2018\n",
       "───────── - ───────── + ────\n",
       "    23          23       23 "
      ]
     },
     "metadata": {},
     "output_type": "display_data"
    },
    {
     "name": "stdout",
     "output_type": "stream",
     "text": [
      "-----\n"
     ]
    },
    {
     "data": {
      "image/png": "[encoded data removed]",
      "text/latex": [
       "$\\displaystyle m_{i1} \\left(- r_{i} + x_{i}\\right) + m_{i2} \\left(- s_{i} + x_{i}\\right)^{p_{i}} + \\frac{15 s_{4}^{2}}{23} - \\frac{174 s_{4}}{23} + \\frac{2018}{23}$"
      ],
      "text/plain": [
       "                                                     2                   \n",
       "                                        pᵢ   15⋅s_{4}    174⋅s_{4}   2018\n",
       "m_{i1}⋅(-rᵢ + xᵢ) + m_{i2}⋅(-s_{i} + xᵢ)   + ───────── - ───────── + ────\n",
       "                                                 23          23       23 "
      ]
     },
     "metadata": {},
     "output_type": "display_data"
    },
    {
     "data": {
      "image/png": "[encoded data removed]",
      "text/latex": [
       "$\\displaystyle \\frac{15 s_{3}^{2}}{38} + \\frac{28 s_{3}}{19} + \\frac{1270}{19}$"
      ],
      "text/plain": [
       "        2                  \n",
       "15⋅s_{3}    28⋅s_{3}   1270\n",
       "───────── + ──────── + ────\n",
       "    38         19       19 "
      ]
     },
     "metadata": {},
     "output_type": "display_data"
    },
    {
     "name": "stdout",
     "output_type": "stream",
     "text": [
      "-----\n"
     ]
    },
    {
     "data": {
      "image/png": "[encoded data removed]",
      "text/latex": [
       "$\\displaystyle m_{i1} \\left(- r_{i} + x_{i}\\right) + m_{i2} \\left(- s_{i} + x_{i}\\right)^{p_{i}} + \\frac{15 s_{3}^{2}}{38} + \\frac{28 s_{3}}{19} + \\frac{1270}{19}$"
      ],
      "text/plain": [
       "                                                     2                  \n",
       "                                        pᵢ   15⋅s_{3}    28⋅s_{3}   1270\n",
       "m_{i1}⋅(-rᵢ + xᵢ) + m_{i2}⋅(-s_{i} + xᵢ)   + ───────── + ──────── + ────\n",
       "                                                 38         19       19 "
      ]
     },
     "metadata": {},
     "output_type": "display_data"
    },
    {
     "data": {
      "image/png": "[encoded data removed]",
      "text/latex": [
       "$\\displaystyle \\frac{60 s_{2}^{2}}{167} + \\frac{1440 s_{2}}{167} + \\frac{3630}{167}$"
      ],
      "text/plain": [
       "        2                    \n",
       "60⋅s_{2}    1440⋅s_{2}   3630\n",
       "───────── + ────────── + ────\n",
       "   167         167       167 "
      ]
     },
     "metadata": {},
     "output_type": "display_data"
    },
    {
     "name": "stdout",
     "output_type": "stream",
     "text": [
      "-----\n"
     ]
    },
    {
     "data": {
      "image/png": "[encoded data removed]",
      "text/latex": [
       "$\\displaystyle m_{i1} \\left(- r_{i} + x_{i}\\right) + m_{i2} \\left(- s_{i} + x_{i}\\right)^{p_{i}} + \\frac{60 s_{2}^{2}}{167} + \\frac{1440 s_{2}}{167} + \\frac{3630}{167}$"
      ],
      "text/plain": [
       "                                                     2                    \n",
       "                                        pᵢ   60⋅s_{2}    1440⋅s_{2}   3630\n",
       "m_{i1}⋅(-rᵢ + xᵢ) + m_{i2}⋅(-s_{i} + xᵢ)   + ───────── + ────────── + ────\n",
       "                                                167         167       167 "
      ]
     },
     "metadata": {},
     "output_type": "display_data"
    },
    {
     "data": {
      "image/png": "[encoded data removed]",
      "text/latex": [
       "$\\displaystyle 135.424670433145$"
      ],
      "text/plain": [
       "135.424670433145"
      ]
     },
     "metadata": {},
     "output_type": "display_data"
    },
    {
     "name": "stdout",
     "output_type": "stream",
     "text": [
      "X_1 =  9133/1062\n",
      "X_2 =  3584/531\n",
      "X_3 =  1778/531\n",
      "X_4 =  2627/531\n",
      "X_5 =  1324/177\n",
      "X_6 =  10\n"
     ]
    }
   ],
   "source": [
    "from IPython.display import display\n",
    "\n",
    "function_to_be_optimized = cost_above + cost_change\n",
    "\n",
    "s_2 = symbols(\"s_{2}\")\n",
    "s_3 = symbols(\"s_{3}\")\n",
    "s_4 = symbols(\"s_{4}\")\n",
    "s_5 = symbols(\"s_{5}\")\n",
    "s_6 = symbols(\"s_{6}\")\n",
    "\n",
    "symbols_list = [s_6, s_5, s_4, s_3, s_2, None]\n",
    "\n",
    "iterations = [6, 5, 4, 3, 2, 1]\n",
    "bounds_counter = 1\n",
    "symbol_counter = 0\n",
    "optimals = []\n",
    "for iteration, m_1, m_2, p_value, bounds_values in zip(iterations, mv1, mv2, pv, bounds):\n",
    "    if iteration == 6:\n",
    "        first_equation = function_to_be_optimized.copy()\n",
    "        display(first_equation)\n",
    "        first_equation = first_equation.subs(mi1, m_1)\n",
    "        first_equation = first_equation.subs(mi2, m_2)\n",
    "        first_equation = first_equation.subs(pi, p_value)\n",
    "        first_equation = first_equation.subs(ri, bounds_values[0])\n",
    "        first_equation = first_equation.subs(si, symbols_list[symbol_counter])\n",
    "        symbol_counter += 1\n",
    "        first_equation = first_equation.subs(xi, 10)  # Because minimum operating level at this stage is equal to max of all values so this is 10\n",
    "        display(first_equation)\n",
    "\n",
    "        optimals.append(10)\n",
    "    else:\n",
    "        print(\"-----\")\n",
    "        new_part_of_equation = function_to_be_optimized.copy()\n",
    "        if iteration == 5:\n",
    "            new_part_of_equation = new_part_of_equation + first_equation\n",
    "        else:\n",
    "            new_part_of_equation = new_part_of_equation + old_part_of_equation\n",
    "        display(new_part_of_equation)\n",
    "        new_part_of_equation = new_part_of_equation.subs(symbols_list[symbol_counter - 1], xi)\n",
    "        new_part_of_equation = new_part_of_equation.subs(mi1, m_1)\n",
    "        new_part_of_equation = new_part_of_equation.subs(mi2, m_2)\n",
    "        new_part_of_equation = new_part_of_equation.subs(pi, p_value)\n",
    "        new_part_of_equation = new_part_of_equation.subs(ri, bounds_values[0])\n",
    "        if iteration == 1:\n",
    "            new_part_of_equation = new_part_of_equation.subs(si, 10)\n",
    "            derrivative_ = diff(new_part_of_equation, xi)\n",
    "            solved_derivative = solve(Eq(derrivative_, 0), xi)\n",
    "            x1 = solved_derivative.copy()\n",
    "            optimals.append(x1[0])\n",
    "            new_part_of_equation = new_part_of_equation.subs(xi, x1[0].evalf())\n",
    "            display(new_part_of_equation)\n",
    "            break\n",
    "\n",
    "        derrivative_ = diff(new_part_of_equation, xi)\n",
    "        solved_derivative_ = solve(Eq(derrivative_, 0), xi)\n",
    "        optimals.append(solved_derivative_)\n",
    "        second_derivative = diff(derrivative_, xi)  # > 0\n",
    "        if second_derivative < 0:\n",
    "            print(\"Error second derivative is not greater or equal to 0\")\n",
    "        new_part_of_equation = simplify(expand(new_part_of_equation.subs(xi, solved_derivative_[0])))\n",
    "        new_part_of_equation = new_part_of_equation.subs(si, symbols_list[symbol_counter])\n",
    "        symbol_counter += 1\n",
    "        old_part_of_equation = new_part_of_equation\n",
    "        display(new_part_of_equation)\n",
    "\n",
    "        w1 = solved_derivative_[0].subs(si, bounds[bounds_counter + 1][0])\n",
    "        w2 = solved_derivative_[0].subs(si, bounds[bounds_counter + 1][1])\n",
    "        bounds_counter += 1\n",
    "\n",
    "        if w1 < bounds_values[0] or w2 > bounds_values[1]:\n",
    "            print(\"Error, out of bounds.\")\n",
    "            break\n",
    "optimals.reverse()\n",
    "solutions = []\n",
    "for id_, sol in enumerate(optimals):\n",
    "    if id_ == 0:\n",
    "        print(\"X_1 = \", sol)\n",
    "        old_value = sol\n",
    "        solutions.append(old_value)\n",
    "    elif id_ == 5:\n",
    "        print(\"X_6 = \", sol)\n",
    "        solutions.append(sol)\n",
    "    else:\n",
    "        value = sol[0].subs(si, old_value)\n",
    "        solutions.append(value)\n",
    "        print(f\"X_{id_ + 1} = \", value)\n",
    "        old_value = value"
   ]
  },
  {
   "cell_type": "code",
   "execution_count": 177,
   "metadata": {},
   "outputs": [
    {
     "data": {
      "image/png": "[encoded data removed]",
      "text/plain": [
       "<Figure size 432x288 with 1 Axes>"
      ]
     },
     "metadata": {
      "needs_background": "light"
     },
     "output_type": "display_data"
    }
   ],
   "source": [
    "request = [8,5,2,4,7,10]\n",
    "bounds = [[request[i], 10] for i in range(6)]\n",
    "bounds.reverse()\n",
    "\n",
    "plt.plot([i for i in range(12)], request + request, label='linear')\n",
    "plt.plot([i for i in range(12)], solutions + solutions, label='linear')\n",
    "plt.show()"
   ]
  },
  {
   "cell_type": "code",
   "execution_count": 181,
   "metadata": {},
   "outputs": [
    {
     "data": {
      "image/png": "[encoded data removed]",
      "text/latex": [
       "$\\displaystyle m_{i1} \\left(- r_{i} + x_{i}\\right) + m_{i2} \\left(- s_{i} + x_{i}\\right)^{p_{i}}$"
      ],
      "text/plain": [
       "                                        pᵢ\n",
       "m_{i1}⋅(-rᵢ + xᵢ) + m_{i2}⋅(-s_{i} + xᵢ)  "
      ]
     },
     "metadata": {},
     "output_type": "display_data"
    },
    {
     "data": {
      "image/png": "[encoded data removed]",
      "text/latex": [
       "$\\displaystyle 5 \\left(10 - s_{6}\\right)^{2}$"
      ],
      "text/plain": [
       "              2\n",
       "5⋅(10 - s_{6}) "
      ]
     },
     "metadata": {},
     "output_type": "display_data"
    },
    {
     "name": "stdout",
     "output_type": "stream",
     "text": [
      "-----\n"
     ]
    },
    {
     "data": {
      "image/png": "[encoded data removed]",
      "text/latex": [
       "$\\displaystyle m_{i1} \\left(- r_{i} + x_{i}\\right) + m_{i2} \\left(- s_{i} + x_{i}\\right)^{p_{i}} + 5 \\left(10 - s_{6}\\right)^{2}$"
      ],
      "text/plain": [
       "                                        pᵢ                 2\n",
       "m_{i1}⋅(-rᵢ + xᵢ) + m_{i2}⋅(-s_{i} + xᵢ)   + 5⋅(10 - s_{6}) "
      ]
     },
     "metadata": {},
     "output_type": "display_data"
    },
    {
     "data": {
      "image/png": "[encoded data removed]",
      "text/latex": [
       "$\\displaystyle \\frac{15 s_{5}^{2}}{8} - \\frac{135 s_{5}}{4} + \\frac{1415}{8}$"
      ],
      "text/plain": [
       "        2                   \n",
       "15⋅s_{5}    135⋅s_{5}   1415\n",
       "───────── - ───────── + ────\n",
       "    8           4        8  "
      ]
     },
     "metadata": {},
     "output_type": "display_data"
    },
    {
     "name": "stdout",
     "output_type": "stream",
     "text": [
      "-----\n"
     ]
    },
    {
     "data": {
      "image/png": "[encoded data removed]",
      "text/latex": [
       "$\\displaystyle m_{i1} \\left(- r_{i} + x_{i}\\right) + m_{i2} \\left(- s_{i} + x_{i}\\right)^{p_{i}} + \\frac{15 s_{5}^{2}}{8} - \\frac{135 s_{5}}{4} + \\frac{1415}{8}$"
      ],
      "text/plain": [
       "                                                     2                   \n",
       "                                        pᵢ   15⋅s_{5}    135⋅s_{5}   1415\n",
       "m_{i1}⋅(-rᵢ + xᵢ) + m_{i2}⋅(-s_{i} + xᵢ)   + ───────── - ───────── + ────\n",
       "                                                 8           4        8  "
      ]
     },
     "metadata": {},
     "output_type": "display_data"
    },
    {
     "data": {
      "image/png": "[encoded data removed]",
      "text/latex": [
       "$\\displaystyle \\frac{15 s_{4}^{2}}{23} - 10 s_{4} + 85$"
      ],
      "text/plain": [
       "        2                \n",
       "15⋅s_{4}                 \n",
       "───────── - 10⋅s_{4} + 85\n",
       "    23                   "
      ]
     },
     "metadata": {},
     "output_type": "display_data"
    },
    {
     "name": "stdout",
     "output_type": "stream",
     "text": [
      "-----\n"
     ]
    },
    {
     "data": {
      "image/png": "[encoded data removed]",
      "text/latex": [
       "$\\displaystyle m_{i1} \\left(- r_{i} + x_{i}\\right) + m_{i2} \\left(- s_{i} + x_{i}\\right)^{p_{i}} + \\frac{15 s_{4}^{2}}{23} - 10 s_{4} + 85$"
      ],
      "text/plain": [
       "                                                     2                \n",
       "                                        pᵢ   15⋅s_{4}                 \n",
       "m_{i1}⋅(-rᵢ + xᵢ) + m_{i2}⋅(-s_{i} + xᵢ)   + ───────── - 10⋅s_{4} + 85\n",
       "                                                 23                   "
      ]
     },
     "metadata": {},
     "output_type": "display_data"
    },
    {
     "data": {
      "image/png": "[encoded data removed]",
      "text/latex": [
       "$\\displaystyle \\frac{15 s_{3}^{2}}{38} + 65$"
      ],
      "text/plain": [
       "        2     \n",
       "15⋅s_{3}      \n",
       "───────── + 65\n",
       "    38        "
      ]
     },
     "metadata": {},
     "output_type": "display_data"
    },
    {
     "name": "stdout",
     "output_type": "stream",
     "text": [
      "-----\n"
     ]
    },
    {
     "data": {
      "image/png": "[encoded data removed]",
      "text/latex": [
       "$\\displaystyle m_{i1} \\left(- r_{i} + x_{i}\\right) + m_{i2} \\left(- s_{i} + x_{i}\\right)^{p_{i}} + \\frac{15 s_{3}^{2}}{38} + 65$"
      ],
      "text/plain": [
       "                                                     2     \n",
       "                                        pᵢ   15⋅s_{3}      \n",
       "m_{i1}⋅(-rᵢ + xᵢ) + m_{i2}⋅(-s_{i} + xᵢ)   + ───────── + 65\n",
       "                                                 38        "
      ]
     },
     "metadata": {},
     "output_type": "display_data"
    },
    {
     "data": {
      "image/png": "[encoded data removed]",
      "text/latex": [
       "$\\displaystyle \\frac{60 s_{2}^{2}}{167} + \\frac{1216 s_{2}}{167} + \\frac{3567}{167}$"
      ],
      "text/plain": [
       "        2                    \n",
       "60⋅s_{2}    1216⋅s_{2}   3567\n",
       "───────── + ────────── + ────\n",
       "   167         167       167 "
      ]
     },
     "metadata": {},
     "output_type": "display_data"
    },
    {
     "name": "stdout",
     "output_type": "stream",
     "text": [
      "-----\n"
     ]
    },
    {
     "data": {
      "image/png": "[encoded data removed]",
      "text/latex": [
       "$\\displaystyle m_{i1} \\left(- r_{i} + x_{i}\\right) + m_{i2} \\left(- s_{i} + x_{i}\\right)^{p_{i}} + \\frac{60 s_{2}^{2}}{167} + \\frac{1216 s_{2}}{167} + \\frac{3567}{167}$"
      ],
      "text/plain": [
       "                                                     2                    \n",
       "                                        pᵢ   60⋅s_{2}    1216⋅s_{2}   3567\n",
       "m_{i1}⋅(-rᵢ + xᵢ) + m_{i2}⋅(-s_{i} + xᵢ)   + ───────── + ────────── + ────\n",
       "                                                167         167       167 "
      ]
     },
     "metadata": {},
     "output_type": "display_data"
    },
    {
     "data": {
      "image/png": "[encoded data removed]",
      "text/latex": [
       "$\\displaystyle 123.441619585687$"
      ],
      "text/plain": [
       "123.441619585687"
      ]
     },
     "metadata": {},
     "output_type": "display_data"
    },
    {
     "name": "stdout",
     "output_type": "stream",
     "text": [
      "X_1 =  9245/1062\n",
      "X_2 =  3724/531\n",
      "X_3 =  2254/531\n",
      "X_4 =  3439/531\n",
      "X_5 =  2851/354\n",
      "X_6 =  10\n"
     ]
    }
   ],
   "source": [
    "mv1[2] = 5\n",
    "\n",
    "function_to_be_optimized = cost_above + cost_change\n",
    "\n",
    "s_2 = symbols(\"s_{2}\")\n",
    "s_3 = symbols(\"s_{3}\")\n",
    "s_4 = symbols(\"s_{4}\")\n",
    "s_5 = symbols(\"s_{5}\")\n",
    "s_6 = symbols(\"s_{6}\")\n",
    "\n",
    "symbols_list = [s_6, s_5, s_4, s_3, s_2, None]\n",
    "\n",
    "iterations = [6, 5, 4, 3, 2, 1]\n",
    "bounds_counter = 1\n",
    "symbol_counter = 0\n",
    "optimals = []\n",
    "for iteration, m_1, m_2, p_value, bounds_values in zip(iterations, mv1, mv2, pv, bounds):\n",
    "    if iteration == 6:\n",
    "        first_equation = function_to_be_optimized.copy()\n",
    "        display(first_equation)\n",
    "        first_equation = first_equation.subs(mi1, m_1)\n",
    "        first_equation = first_equation.subs(mi2, m_2)\n",
    "        first_equation = first_equation.subs(pi, p_value)\n",
    "        first_equation = first_equation.subs(ri, bounds_values[0])\n",
    "        first_equation = first_equation.subs(si, symbols_list[symbol_counter])\n",
    "        symbol_counter += 1\n",
    "        first_equation = first_equation.subs(xi,\n",
    "                                             10)  # Because minimum operating level at this stage is equal to max of all values so this is 10\n",
    "        display(first_equation)\n",
    "\n",
    "        optimals.append(10)\n",
    "    else:\n",
    "        print(\"-----\")\n",
    "        new_part_of_equation = function_to_be_optimized.copy()\n",
    "        if iteration == 5:\n",
    "            new_part_of_equation = new_part_of_equation + first_equation\n",
    "        else:\n",
    "            new_part_of_equation = new_part_of_equation + old_part_of_equation\n",
    "        display(new_part_of_equation)\n",
    "        new_part_of_equation = new_part_of_equation.subs(symbols_list[symbol_counter - 1], xi)\n",
    "        new_part_of_equation = new_part_of_equation.subs(mi1, m_1)\n",
    "        new_part_of_equation = new_part_of_equation.subs(mi2, m_2)\n",
    "        new_part_of_equation = new_part_of_equation.subs(pi, p_value)\n",
    "        new_part_of_equation = new_part_of_equation.subs(ri, bounds_values[0])\n",
    "        if iteration == 1:\n",
    "            new_part_of_equation = new_part_of_equation.subs(si, 10)\n",
    "            derrivative_ = diff(new_part_of_equation, xi)\n",
    "            solved_derivative = solve(Eq(derrivative_, 0), xi)\n",
    "            x1 = solved_derivative.copy()\n",
    "            optimals.append(x1[0])\n",
    "            new_part_of_equation = new_part_of_equation.subs(xi, x1[0].evalf())\n",
    "            display(new_part_of_equation)\n",
    "            break\n",
    "\n",
    "        derrivative_ = diff(new_part_of_equation, xi)\n",
    "        solved_derivative_ = solve(Eq(derrivative_, 0), xi)\n",
    "        optimals.append(solved_derivative_)\n",
    "        second_derivative = diff(derrivative_, xi)  # > 0\n",
    "        if second_derivative < 0:\n",
    "            print(\"Error second derivative is not greater or equal to 0\")\n",
    "        new_part_of_equation = simplify(expand(new_part_of_equation.subs(xi, solved_derivative_[0])))\n",
    "        new_part_of_equation = new_part_of_equation.subs(si, symbols_list[symbol_counter])\n",
    "        symbol_counter += 1\n",
    "        old_part_of_equation = new_part_of_equation\n",
    "        display(new_part_of_equation)\n",
    "\n",
    "        w1 = solved_derivative_[0].subs(si, bounds[bounds_counter + 1][0])\n",
    "        w2 = solved_derivative_[0].subs(si, bounds[bounds_counter + 1][1])\n",
    "        bounds_counter += 1\n",
    "\n",
    "        if w1 < bounds_values[0] or w2 > bounds_values[1]:\n",
    "            print(\"Error, out of bounds.\")\n",
    "            break\n",
    "optimals.reverse()\n",
    "solutions = []\n",
    "for id_, sol in enumerate(optimals):\n",
    "    if id_ == 0:\n",
    "        print(\"X_1 = \", sol)\n",
    "        old_value = sol\n",
    "        solutions.append(old_value)\n",
    "    elif id_ == 5:\n",
    "        print(\"X_6 = \", sol)\n",
    "        solutions.append(sol)\n",
    "    else:\n",
    "        value = sol[0].subs(si, old_value)\n",
    "        solutions.append(value)\n",
    "        print(f\"X_{id_ + 1} = \", value)\n",
    "        old_value = value"
   ]
  },
  {
   "cell_type": "code",
   "execution_count": 182,
   "metadata": {},
   "outputs": [
    {
     "data": {
      "image/png": "[encoded data removed]",
      "text/plain": [
       "<Figure size 432x288 with 1 Axes>"
      ]
     },
     "metadata": {
      "needs_background": "light"
     },
     "output_type": "display_data"
    }
   ],
   "source": [
    "request = [8,5,2,4,7,10]\n",
    "bounds = [[request[i], 10] for i in range(6)]\n",
    "bounds.reverse()\n",
    "\n",
    "plt.plot([i for i in range(12)], request + request, label='linear')\n",
    "plt.plot([i for i in range(12)], solutions + solutions, label='linear')\n",
    "plt.show()"
   ]
  }
 ],
 "metadata": {
  "kernelspec": {
   "display_name": "Dynamic",
   "language": "python",
   "name": "venv"
  },
  "language_info": {
   "codemirror_mode": {
    "name": "ipython",
    "version": 3
   },
   "file_extension": ".py",
   "mimetype": "text/x-python",
   "name": "python",
   "nbconvert_exporter": "python",
   "pygments_lexer": "ipython3",
   "version": "3.9.6"
  }
 },
 "nbformat": 4,
 "nbformat_minor": 4
}
