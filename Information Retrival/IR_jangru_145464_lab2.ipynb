{
 "cells": [
  {
   "cell_type": "markdown",
   "id": "6448b889",
   "metadata": {},
   "source": [
    "Send notebook with completed tasks to grzegorz.miebs@cs.put.poznan.pl. \n",
    "\n",
    "Deadline - 144 hours after end of this class  \n",
    "Second deadline - 312 after end of this class, max grade = 4.0"
   ]
  },
  {
   "cell_type": "markdown",
   "id": "d82a09f2",
   "metadata": {},
   "source": [
    "# Networkx"
   ]
  },
  {
   "cell_type": "code",
   "execution_count": 2,
   "id": "a7005d9b",
   "metadata": {},
   "outputs": [],
   "source": [
    "import networkx as nx\n",
    "import matplotlib.pyplot as plt\n",
    "import numpy as np"
   ]
  },
  {
   "cell_type": "code",
   "execution_count": 3,
   "id": "12d5f277",
   "metadata": {},
   "outputs": [],
   "source": [
    "G = nx.Graph()\n",
    "G.add_nodes_from(range(10))"
   ]
  },
  {
   "cell_type": "code",
   "execution_count": 4,
   "id": "d8cc50b5",
   "metadata": {},
   "outputs": [],
   "source": [
    "np.random.seed(9)\n",
    "for _ in range(20):\n",
    "    G.add_edge(*np.random.randint(0,10,2))"
   ]
  },
  {
   "cell_type": "code",
   "execution_count": 5,
   "id": "68f27921",
   "metadata": {},
   "outputs": [
    {
     "data": {
      "image/png": "[encoded data removed]",
      "text/plain": [
       "<Figure size 432x288 with 1 Axes>"
      ]
     },
     "metadata": {},
     "output_type": "display_data"
    }
   ],
   "source": [
    "nx.draw(G, with_labels=True)"
   ]
  },
  {
   "cell_type": "code",
   "execution_count": 6,
   "id": "30fd04de",
   "metadata": {
    "scrolled": true
   },
   "outputs": [
    {
     "data": {
      "text/plain": [
       "{0: {0: [0],\n",
       "  8: [0, 8],\n",
       "  9: [0, 9],\n",
       "  6: [0, 8, 6],\n",
       "  4: [0, 8, 4],\n",
       "  1: [0, 8, 1],\n",
       "  3: [0, 8, 3],\n",
       "  2: [0, 8, 2],\n",
       "  5: [0, 8, 6, 5],\n",
       "  7: [0, 8, 6, 7]},\n",
       " 1: {1: [1],\n",
       "  6: [1, 6],\n",
       "  8: [1, 8],\n",
       "  5: [1, 5],\n",
       "  2: [1, 6, 2],\n",
       "  7: [1, 6, 7],\n",
       "  4: [1, 8, 4],\n",
       "  0: [1, 8, 0],\n",
       "  3: [1, 8, 3],\n",
       "  9: [1, 8, 0, 9]},\n",
       " 2: {2: [2],\n",
       "  6: [2, 6],\n",
       "  8: [2, 8],\n",
       "  5: [2, 6, 5],\n",
       "  1: [2, 6, 1],\n",
       "  7: [2, 6, 7],\n",
       "  4: [2, 8, 4],\n",
       "  0: [2, 8, 0],\n",
       "  3: [2, 8, 3],\n",
       "  9: [2, 8, 0, 9]},\n",
       " 3: {3: [3],\n",
       "  8: [3, 8],\n",
       "  5: [3, 5],\n",
       "  4: [3, 4],\n",
       "  6: [3, 8, 6],\n",
       "  1: [3, 8, 1],\n",
       "  0: [3, 8, 0],\n",
       "  2: [3, 8, 2],\n",
       "  7: [3, 8, 6, 7],\n",
       "  9: [3, 8, 0, 9]},\n",
       " 4: {4: [4],\n",
       "  8: [4, 8],\n",
       "  5: [4, 5],\n",
       "  3: [4, 3],\n",
       "  6: [4, 8, 6],\n",
       "  1: [4, 8, 1],\n",
       "  0: [4, 8, 0],\n",
       "  2: [4, 8, 2],\n",
       "  7: [4, 8, 6, 7],\n",
       "  9: [4, 8, 0, 9]},\n",
       " 5: {5: [5],\n",
       "  6: [5, 6],\n",
       "  1: [5, 1],\n",
       "  3: [5, 3],\n",
       "  4: [5, 4],\n",
       "  8: [5, 6, 8],\n",
       "  2: [5, 6, 2],\n",
       "  7: [5, 6, 7],\n",
       "  0: [5, 6, 8, 0],\n",
       "  9: [5, 6, 8, 0, 9]},\n",
       " 6: {6: [6],\n",
       "  5: [6, 5],\n",
       "  8: [6, 8],\n",
       "  1: [6, 1],\n",
       "  2: [6, 2],\n",
       "  7: [6, 7],\n",
       "  3: [6, 5, 3],\n",
       "  4: [6, 5, 4],\n",
       "  0: [6, 8, 0],\n",
       "  9: [6, 8, 0, 9]},\n",
       " 7: {7: [7],\n",
       "  6: [7, 6],\n",
       "  5: [7, 6, 5],\n",
       "  8: [7, 6, 8],\n",
       "  1: [7, 6, 1],\n",
       "  2: [7, 6, 2],\n",
       "  3: [7, 6, 5, 3],\n",
       "  4: [7, 6, 5, 4],\n",
       "  0: [7, 6, 8, 0],\n",
       "  9: [7, 6, 8, 0, 9]},\n",
       " 8: {8: [8],\n",
       "  6: [8, 6],\n",
       "  4: [8, 4],\n",
       "  1: [8, 1],\n",
       "  0: [8, 0],\n",
       "  3: [8, 3],\n",
       "  2: [8, 2],\n",
       "  5: [8, 6, 5],\n",
       "  7: [8, 6, 7],\n",
       "  9: [8, 0, 9]},\n",
       " 9: {9: [9],\n",
       "  0: [9, 0],\n",
       "  8: [9, 0, 8],\n",
       "  6: [9, 0, 8, 6],\n",
       "  4: [9, 0, 8, 4],\n",
       "  1: [9, 0, 8, 1],\n",
       "  3: [9, 0, 8, 3],\n",
       "  2: [9, 0, 8, 2],\n",
       "  5: [9, 0, 8, 6, 5],\n",
       "  7: [9, 0, 8, 6, 7]}}"
      ]
     },
     "execution_count": 6,
     "metadata": {},
     "output_type": "execute_result"
    }
   ],
   "source": [
    "nx.shortest_path(G)"
   ]
  },
  {
   "cell_type": "code",
   "execution_count": 7,
   "id": "b224630f",
   "metadata": {},
   "outputs": [
    {
     "name": "stdout",
     "output_type": "stream",
     "text": [
      "eccentricity: {0: 3, 1: 3, 2: 3, 3: 3, 4: 3, 5: 4, 6: 3, 7: 4, 8: 2, 9: 4}\n",
      "radius: 2\n",
      "diameter: 4\n",
      "center: [8]\n",
      "periphery: [5, 7, 9]\n",
      "density: 0.37777777777777777\n"
     ]
    }
   ],
   "source": [
    "print(\"eccentricity: %s\" % nx.eccentricity(G))\n",
    "print(\"radius: %d\" % nx.radius(G))\n",
    "print(\"diameter: %d\" % nx.diameter(G))\n",
    "print(\"center: %s\" % nx.center(G))\n",
    "print(\"periphery: %s\" % nx.periphery(G))\n",
    "print(\"density: %s\" % nx.density(G))"
   ]
  },
  {
   "cell_type": "markdown",
   "id": "f8aeeea5",
   "metadata": {},
   "source": [
    "## Task 1\n",
    "- Calculate eccentricity, radius and diameter using shortest_path(G)\n",
    "- What kind of graph has diameter = 1?"
   ]
  },
  {
   "cell_type": "code",
   "execution_count": 8,
   "id": "b27ae722",
   "metadata": {},
   "outputs": [
    {
     "name": "stdout",
     "output_type": "stream",
     "text": [
      "{0: 3, 1: 3, 2: 3, 3: 3, 4: 3, 5: 4, 6: 3, 7: 4, 8: 2, 9: 4}\n",
      "2\n",
      "4\n"
     ]
    }
   ],
   "source": [
    "shortest_paths = nx.shortest_path(G)\n",
    "\n",
    "eccentricity = {x: max([len(value)-1 for key, value in y.items()]) for x,y in shortest_paths.items()}\n",
    "print(eccentricity)\n",
    "radius = min(eccentricity.values())\n",
    "print(radius)\n",
    "diameter = max(eccentricity.values())\n",
    "print(diameter)"
   ]
  },
  {
   "cell_type": "markdown",
   "id": "d97f04a8",
   "metadata": {},
   "source": [
    "Nodes can be defined not only with int but with any hashable"
   ]
  },
  {
   "cell_type": "code",
   "execution_count": 9,
   "id": "314d8d88",
   "metadata": {},
   "outputs": [
    {
     "data": {
      "image/png": "[encoded data removed]",
      "text/plain": [
       "<Figure size 432x288 with 1 Axes>"
      ]
     },
     "metadata": {},
     "output_type": "display_data"
    }
   ],
   "source": [
    "G.add_node(\"node\")\n",
    "G.add_edge(\"node\", 5)\n",
    "nx.draw(G, with_labels=True)"
   ]
  },
  {
   "cell_type": "code",
   "execution_count": 10,
   "id": "d22a0374",
   "metadata": {},
   "outputs": [
    {
     "data": {
      "text/plain": [
       "[0, 1, 2, 3, 4, 5, 6, 7, 8, 9, 'node']"
      ]
     },
     "execution_count": 10,
     "metadata": {},
     "output_type": "execute_result"
    }
   ],
   "source": [
    "list(G.nodes)"
   ]
  },
  {
   "cell_type": "code",
   "execution_count": 11,
   "id": "fe35153e",
   "metadata": {},
   "outputs": [
    {
     "data": {
      "text/plain": [
       "[(0, 8),\n",
       " (0, 9),\n",
       " (1, 6),\n",
       " (1, 8),\n",
       " (1, 5),\n",
       " (2, 6),\n",
       " (2, 8),\n",
       " (3, 8),\n",
       " (3, 5),\n",
       " (3, 4),\n",
       " (4, 8),\n",
       " (4, 5),\n",
       " (5, 6),\n",
       " (5, 'node'),\n",
       " (6, 8),\n",
       " (6, 7),\n",
       " (6, 6),\n",
       " (8, 8)]"
      ]
     },
     "execution_count": 11,
     "metadata": {},
     "output_type": "execute_result"
    }
   ],
   "source": [
    "list(G.edges)"
   ]
  },
  {
   "cell_type": "code",
   "execution_count": 12,
   "id": "22ce6fde",
   "metadata": {},
   "outputs": [
    {
     "data": {
      "text/plain": [
       "DegreeView({1: 3, 5: 5, 'node': 1})"
      ]
     },
     "execution_count": 12,
     "metadata": {},
     "output_type": "execute_result"
    }
   ],
   "source": [
    "G.degree([1,5,\"node\"])"
   ]
  },
  {
   "cell_type": "code",
   "execution_count": 13,
   "id": "a5241317",
   "metadata": {},
   "outputs": [],
   "source": [
    "G = nx.DiGraph() # Directed graph\n",
    "G.add_nodes_from(range(7))"
   ]
  },
  {
   "cell_type": "code",
   "execution_count": 14,
   "id": "13cf6bde",
   "metadata": {},
   "outputs": [],
   "source": [
    "np.random.seed(42)\n",
    "for _ in range(15):\n",
    "    G.add_edge(*np.random.randint(0,7,2))"
   ]
  },
  {
   "cell_type": "code",
   "execution_count": 15,
   "id": "bd01f7a5",
   "metadata": {},
   "outputs": [
    {
     "data": {
      "image/png": "[encoded data removed]",
      "text/plain": [
       "<Figure size 432x288 with 1 Axes>"
      ]
     },
     "metadata": {},
     "output_type": "display_data"
    }
   ],
   "source": [
    "nx.draw(G, with_labels=True)"
   ]
  },
  {
   "cell_type": "code",
   "execution_count": 16,
   "id": "0d160d57",
   "metadata": {},
   "outputs": [
    {
     "name": "stdout",
     "output_type": "stream",
     "text": [
      "[5]\n",
      "[1, 3]\n",
      "[1, 2, 4, 6, 3]\n",
      "[2, 4, 6]\n",
      "[2, 4, 6, 3]\n"
     ]
    }
   ],
   "source": [
    "for cycle in nx.algorithms.cycles.simple_cycles(G):\n",
    "    print(cycle)"
   ]
  },
  {
   "cell_type": "code",
   "execution_count": null,
   "id": "f9df4f3d",
   "metadata": {},
   "outputs": [],
   "source": []
  },
  {
   "cell_type": "code",
   "execution_count": 17,
   "id": "775c8a28",
   "metadata": {},
   "outputs": [],
   "source": [
    "G = nx.DiGraph()\n",
    "G.add_edge(\"Rataje\", \"PKP\", capacity=3.0)\n",
    "G.add_edge(\"Rataje\", \"Starołęka\", capacity=1.0)\n",
    "G.add_edge(\"Rataje\", \"Śródka\", capacity=4.0)\n",
    "G.add_edge(\"Hetmańska\", \"PKP\", capacity=2.0)\n",
    "G.add_edge(\"Starołęka\", \"Hetmańska\", capacity=3.0)\n",
    "G.add_edge(\"Niepodległości\", \"PKP\", capacity=1.0)\n",
    "G.add_edge(\"Śródka\", \"Niepodległości\", capacity=2.0)"
   ]
  },
  {
   "cell_type": "code",
   "execution_count": 18,
   "id": "4b918275",
   "metadata": {},
   "outputs": [
    {
     "data": {
      "text/plain": [
       "OutEdgeView([('Rataje', 'PKP'), ('Rataje', 'Starołęka'), ('Rataje', 'Śródka'), ('Starołęka', 'Hetmańska'), ('Śródka', 'Niepodległości'), ('Hetmańska', 'PKP'), ('Niepodległości', 'PKP')])"
      ]
     },
     "execution_count": 18,
     "metadata": {},
     "output_type": "execute_result"
    }
   ],
   "source": [
    "G.edges"
   ]
  },
  {
   "cell_type": "code",
   "execution_count": 19,
   "id": "1b1b3b2a",
   "metadata": {},
   "outputs": [
    {
     "data": {
      "image/png": "[encoded data removed]",
      "text/plain": [
       "<Figure size 432x288 with 1 Axes>"
      ]
     },
     "metadata": {},
     "output_type": "display_data"
    }
   ],
   "source": [
    "pos=nx.planar_layout(G)\n",
    "nx.draw(G, pos, with_labels=True)\n",
    "labels = nx.get_edge_attributes(G,'capacity')\n",
    "nx.draw_networkx_edge_labels(G,pos,edge_labels=labels)\n",
    "plt.show()"
   ]
  },
  {
   "cell_type": "code",
   "execution_count": 20,
   "id": "692c00ee",
   "metadata": {},
   "outputs": [
    {
     "data": {
      "text/plain": [
       "(5.0,\n",
       " {'Rataje': {'PKP': 3.0, 'Starołęka': 1.0, 'Śródka': 1.0},\n",
       "  'PKP': {},\n",
       "  'Starołęka': {'Hetmańska': 1.0},\n",
       "  'Śródka': {'Niepodległości': 1.0},\n",
       "  'Hetmańska': {'PKP': 1.0},\n",
       "  'Niepodległości': {'PKP': 1.0}})"
      ]
     },
     "execution_count": 20,
     "metadata": {},
     "output_type": "execute_result"
    }
   ],
   "source": [
    "nx.algorithms.flow.maximum_flow(G, \"Rataje\", \"PKP\")"
   ]
  },
  {
   "cell_type": "markdown",
   "id": "ac2a00e0",
   "metadata": {},
   "source": [
    "## Task 2\n",
    "\n",
    "- Where we have to increase capacity to increase flow between Rataje and PKP with lowest cost? Assuming you can increase total capacity by 2 (can be splited between edges) what's the best strategy to increase flow?\n",
    "- Write function detecting bottlenecks \n"
   ]
  },
  {
   "cell_type": "code",
   "execution_count": 21,
   "id": "a06d38cc",
   "metadata": {},
   "outputs": [
    {
     "data": {
      "text/plain": [
       "[('Rataje', 'PKP'), ('Rataje', 'Starołęka'), ('Niepodległości', 'PKP')]"
      ]
     },
     "execution_count": 21,
     "metadata": {},
     "output_type": "execute_result"
    }
   ],
   "source": [
    "#A\n",
    "#To increase the flow the most the best strategy is to increase tha capacity between Rataje PKP by 2. \n",
    "#Solution seems too simple, but yeild the biggest increase in flow.\n",
    "\n",
    "\n",
    "#B\n",
    "def detect_bottlenecks(G, station_one, station_two):\n",
    "    capacities = {(x[0], x[1]): x[2]['capacity'] for x in G.edges.data()}\n",
    "    a_list = []\n",
    "    flows = {}\n",
    "    for key, value in nx.algorithms.flow.maximum_flow(G, station_one, station_two)[1].items():\n",
    "        for key2, value2 in value.items():\n",
    "            flows[(key, key2)] = value2\n",
    "    for key, value in flows.items():\n",
    "        if key in capacities.keys():\n",
    "            if capacities[key] == value:\n",
    "                a_list.append(key)\n",
    "    return a_list\n",
    "\n",
    "detect_bottlenecks(G, \"Rataje\", \"PKP\")\n"
   ]
  },
  {
   "cell_type": "markdown",
   "id": "ab6b84ab",
   "metadata": {},
   "source": [
    "# PDF"
   ]
  },
  {
   "cell_type": "code",
   "execution_count": 22,
   "id": "8c618138",
   "metadata": {},
   "outputs": [],
   "source": [
    "import pdfplumber\n",
    "import pandas as pd"
   ]
  },
  {
   "cell_type": "markdown",
   "id": "a5bf4c03",
   "metadata": {},
   "source": [
    "Download two pdfs from http://www.cs.put.poznan.pl/gmiebs/students/ir/lab2 check how they look like"
   ]
  },
  {
   "cell_type": "code",
   "execution_count": 23,
   "id": "01dcb3f9",
   "metadata": {},
   "outputs": [
    {
     "name": "stdout",
     "output_type": "stream",
     "text": [
      "Your Paper\n",
      "You\n",
      "October 20, 2021\n",
      "Abstract\n",
      "Your abstract.\n",
      "1 Introduction\n",
      "Your introduction goes here! Simply start writing your document and use the Recompile button to\n",
      "viewtheupdatedPDFpreview. Examplesofcommonlyusedcommandsandfeaturesarelistedbelow,\n",
      "to help you get started.\n",
      "Once you’re familiar with the editor, you can find various project setting in the Overleaf menu,\n",
      "accessed via the button in the very top left of the editor. To view tutorials, user guides, and further\n",
      "documentation, please visit our help library, or head to our plans page to choose your plan.\n",
      "2 Some examples to get started\n",
      "2.1 How to create Sections and Subsections\n",
      "Simply use the section and subsection commands, as in this example document! With Overleaf, all\n",
      "the formatting and numbering is handled automatically according to the template you’ve chosen. If\n",
      "you’re using Rich Text mode, you can also create new section and subsections via the buttons in the\n",
      "editor toolbar.\n",
      "2.2 How to include Figures\n",
      "Firstyouhavetouploadtheimagefilefromyourcomputerusingtheuploadlinkinthefile-treemenu.\n",
      "Then use the includegraphics command to include it in your document. Use the figure environment\n",
      "and the caption command to add a number and a caption to your figure. See the code for Figure 1 in\n",
      "this section for an example.\n",
      "Note that your figure will automatically be placed in the most appropriate place for it, given the\n",
      "surrounding text and taking into account other figures or tables that may be close by. You can find\n",
      "out moreaboutadding imagesto your documentsin thishelp articleon including images onOverleaf.\n",
      "Figure 1: This frog was uploaded via the file-tree menu.\n",
      "1\n"
     ]
    }
   ],
   "source": [
    "pdf = pdfplumber.open(\"Test.pdf\")\n",
    "print(pdf.pages[0].extract_text())"
   ]
  },
  {
   "cell_type": "code",
   "execution_count": 24,
   "id": "e66b589f",
   "metadata": {},
   "outputs": [
    {
     "data": {
      "text/plain": [
       "[['Notice Date',\n",
       "  'Effective',\n",
       "  'Received',\n",
       "  'Company',\n",
       "  'City',\n",
       "  'No. Of',\n",
       "  'Layoff/Closure'],\n",
       " ['06/22/2015',\n",
       "  '0  3  / 2  5  / 2  0  16',\n",
       "  '0  7  / 0  1  / 2  0  15',\n",
       "  'Maxim Integrated Product',\n",
       "  'San Jose',\n",
       "  '150',\n",
       "  'Closure Permanent'],\n",
       " ['06/30/2015',\n",
       "  '0  8  / 2  9  / 2  0  15',\n",
       "  '0  7  / 0  1  / 2  0  15',\n",
       "  'McGraw-Hill Education',\n",
       "  'Monterey',\n",
       "  '137',\n",
       "  'Layoff Unknown at this time'],\n",
       " ['06/30/2015',\n",
       "  '0  8  / 3  0  / 2  0  15',\n",
       "  '0  7  / 0  1  / 2  0  15',\n",
       "  'Long Beach Memorial Medical Center',\n",
       "  'Long Beach',\n",
       "  '90',\n",
       "  'Layoff Permanent'],\n",
       " ['07/01/2015',\n",
       "  '0  9  / 0  2  / 2  0  15',\n",
       "  '0  7  / 0  1  / 2  0  15',\n",
       "  'Leidos',\n",
       "  'El Segundo',\n",
       "  '72',\n",
       "  'Layoff Permanent'],\n",
       " ['07/01/2015',\n",
       "  '0  9  / 3  0  / 2  0  16',\n",
       "  '0  7  / 0  1  / 2  0  15',\n",
       "  'Bosch Healthcare Systems, Inc.',\n",
       "  'Palo Alto',\n",
       "  '55',\n",
       "  'Closure Permanent'],\n",
       " ['06/29/2015',\n",
       "  '0  9  / 0  1  / 2  0  15',\n",
       "  '0  7  / 0  2  / 2  0  15',\n",
       "  'Encompass Digital Media, Inc.',\n",
       "  'Los Angeles',\n",
       "  '41',\n",
       "  'Closure Permanent'],\n",
       " ['07/02/2015',\n",
       "  '0  7  / 0  6  / 2  0  15',\n",
       "  '0  7  / 0  2  / 2  0  15',\n",
       "  'Alphatec Spine',\n",
       "  'Carlsbad',\n",
       "  '99',\n",
       "  'Layoff Permanent'],\n",
       " ['06/30/2015',\n",
       "  '0  8  / 0  7  / 2  0  15',\n",
       "  '0  7  / 0  6  / 2  0  15',\n",
       "  'Symantec Corporation',\n",
       "  'Mountain View',\n",
       "  '60',\n",
       "  'Layoff Permanent'],\n",
       " ['06/30/2015',\n",
       "  '0  8  / 3  1  / 2  0  15',\n",
       "  '0  7  / 0  6  / 2  0  15',\n",
       "  'Fusion Contacts Centers, LLC',\n",
       "  'Santa Maria',\n",
       "  '50',\n",
       "  'Closure Permanent'],\n",
       " ['06/30/2015',\n",
       "  '0  9  / 1  5  / 2  0  15',\n",
       "  '0  7  / 0  6  / 2  0  15',\n",
       "  'KLA-Tencor Corporation',\n",
       "  'Milpitas',\n",
       "  '213',\n",
       "  'Layoff Permanent'],\n",
       " ['07/01/2015',\n",
       "  '0  9  / 0  4  / 2  0  15',\n",
       "  '0  7  / 0  6  / 2  0  15',\n",
       "  'Southern California Edison Company',\n",
       "  'San Clemente',\n",
       "  '100',\n",
       "  'Closure Permanent'],\n",
       " ['07/02/2015',\n",
       "  '0  9  / 0  1  / 2  0  15',\n",
       "  '0  7  / 0  6  / 2  0  15',\n",
       "  'State Fish Company, Inc.',\n",
       "  'Wilmington',\n",
       "  '76',\n",
       "  'Closure Permanent'],\n",
       " ['07/02/2015',\n",
       "  '0  9  / 0  4  / 2  0  15',\n",
       "  '0  7  / 0  6  / 2  0  15',\n",
       "  'Boeing Company',\n",
       "  'Long Beach',\n",
       "  '56',\n",
       "  'Layoff Unknown at this time'],\n",
       " ['07/06/2015',\n",
       "  '0  9  / 0  4  / 2  0  15',\n",
       "  '0  7  / 0  6  / 2  0  15',\n",
       "  'Bridgepoint Education, Inc.',\n",
       "  'San Diego',\n",
       "  '7',\n",
       "  'Layoff Permanent'],\n",
       " ['07/06/2015',\n",
       "  '0  9  / 0  4  / 2  0  15',\n",
       "  '0  7  / 0  6  / 2  0  15',\n",
       "  'Bridgepoint Education, Inc.',\n",
       "  'San Diego',\n",
       "  '15',\n",
       "  'Layoff Permanent'],\n",
       " ['07/01/2015',\n",
       "  '0  6  / 2  9  / 2  0  15',\n",
       "  '0  7  / 0  7  / 2  0  15',\n",
       "  'BAE Systems',\n",
       "  'San Francisco',\n",
       "  '4',\n",
       "  'Layoff Temporary'],\n",
       " ['07/01/2015',\n",
       "  '0  6  / 2  9  / 2  0  15',\n",
       "  '0  7  / 0  7  / 2  0  15',\n",
       "  'BAE Systems',\n",
       "  'San Francisco',\n",
       "  '78',\n",
       "  'Layoff Temporary'],\n",
       " ['07/01/2015',\n",
       "  '0  9  / 0  7  / 2  0  15',\n",
       "  '0  7  / 0  7  / 2  0  15',\n",
       "  'Bay Bread LLC dba Bakery Los Angeles',\n",
       "  'San Fernando',\n",
       "  '50',\n",
       "  'Closure Permanent'],\n",
       " ['07/01/2015',\n",
       "  '0  9  / 2  5  / 2  0  15',\n",
       "  '0  7  / 0  7  / 2  0  15',\n",
       "  'Bay Bread LLC dba New French Bakery',\n",
       "  'South San',\n",
       "  '121',\n",
       "  'Closure Permanent'],\n",
       " ['07/02/2015',\n",
       "  '0  6  / 1  2  / 2  0  15',\n",
       "  '0  7  / 0  7  / 2  0  15',\n",
       "  'Hewlett-Packard Company',\n",
       "  'Palo Alto',\n",
       "  '65',\n",
       "  'Layoff Permanent'],\n",
       " ['07/08/2015',\n",
       "  '0  9  / 0  6  / 2  0  15',\n",
       "  '0  7  / 0  8  / 2  0  15',\n",
       "  'Microsoft Corporation',\n",
       "  'San Diego',\n",
       "  '129',\n",
       "  'Layoff Permanent'],\n",
       " ['06/25/2015',\n",
       "  '1  0  / 0  9  / 2  0  15',\n",
       "  '0  7  / 1  0  / 2  0  15',\n",
       "  'Aramark Healthcare Support Services,',\n",
       "  'Culver City',\n",
       "  '53',\n",
       "  'Closure Permanent'],\n",
       " ['07/01/2015',\n",
       "  '0  9  / 1  0  / 2  0  15',\n",
       "  '0  7  / 1  0  / 2  0  15',\n",
       "  'Maxim Integrated Product',\n",
       "  'San Jose',\n",
       "  '20',\n",
       "  'Layoff Permanent'],\n",
       " ['07/06/2015',\n",
       "  '0  9  / 0  4  / 2  0  15',\n",
       "  '0  7  / 1  0  / 2  0  15',\n",
       "  'ProCourier, Inc.',\n",
       "  'San Diego',\n",
       "  '22',\n",
       "  'Layoff Unknown at this time'],\n",
       " ['07/06/2015',\n",
       "  '0  9  / 0  4  / 2  0  15',\n",
       "  '0  7  / 1  0  / 2  0  15',\n",
       "  'ProCourier, Inc.',\n",
       "  'Los Angeles',\n",
       "  '71',\n",
       "  'Layoff Unknown at this time'],\n",
       " ['07/07/2015',\n",
       "  '0  9  / 0  4  / 2  0  15',\n",
       "  '0  7  / 1  0  / 2  0  15',\n",
       "  'ProCourier, Inc.',\n",
       "  'Irvine',\n",
       "  '22',\n",
       "  'Layoff Unknown at this time'],\n",
       " ['07/09/2015',\n",
       "  '0  7  / 2  2  / 2  0  15',\n",
       "  '0  7  / 1  0  / 2  0  15',\n",
       "  'Berkeley Pyramid Alehouse',\n",
       "  'Berkeley',\n",
       "  '63',\n",
       "  'Closure Permanent'],\n",
       " ['07/09/2015',\n",
       "  '0  9  / 1  4  / 2  0  15',\n",
       "  '0  7  / 1  0  / 2  0  15',\n",
       "  \"Fireman's Fund Insurance Company\",\n",
       "  'Novato',\n",
       "  '35',\n",
       "  'Layoff Permanent'],\n",
       " ['06/30/2015',\n",
       "  '0  8  / 3  1  / 2  0  15',\n",
       "  '0  7  / 1  3  / 2  0  15',\n",
       "  'First Transit',\n",
       "  'San Bernardino',\n",
       "  '127',\n",
       "  'Layoff Permanent'],\n",
       " ['06/30/2015',\n",
       "  '0  8  / 3  1  / 2  0  15',\n",
       "  '0  7  / 1  3  / 2  0  15',\n",
       "  'First Transit',\n",
       "  'Rancho',\n",
       "  '71',\n",
       "  'Layoff Permanent'],\n",
       " ['07/10/2015',\n",
       "  '0  7  / 1  4  / 2  0  15',\n",
       "  '0  7  / 1  3  / 2  0  15',\n",
       "  '11 Main LLC',\n",
       "  'San Mateo',\n",
       "  '35',\n",
       "  'Closure Permanent'],\n",
       " ['07/10/2015',\n",
       "  '0  7  / 1  4  / 2  0  15',\n",
       "  '0  7  / 1  3  / 2  0  15',\n",
       "  '11 Main LLC',\n",
       "  'Chico',\n",
       "  '44',\n",
       "  'Layoff Permanent'],\n",
       " ['07/15/2015',\n",
       "  '0  7  / 1  5  / 2  0  15',\n",
       "  '0  7  / 1  5  / 2  0  15',\n",
       "  'TaylorMade Golf Company',\n",
       "  'Carlsbad',\n",
       "  '64',\n",
       "  'Layoff Permanent'],\n",
       " ['07/08/2015',\n",
       "  '0  9  / 0  6  / 2  0  15',\n",
       "  '0  7  / 1  6  / 2  0  15',\n",
       "  'Southern California Edison Company',\n",
       "  'Rosemead',\n",
       "  '38',\n",
       "  'Layoff Permanent'],\n",
       " ['07/14/2015',\n",
       "  '0  9  / 1  8  / 2  0  15',\n",
       "  '0  7  / 2  0  / 2  0  15',\n",
       "  'Actavis, Inc.',\n",
       "  'Corona',\n",
       "  '45',\n",
       "  'Layoff Permanent'],\n",
       " ['07/17/2015',\n",
       "  '0  7  / 1  3  / 2  0  15',\n",
       "  '0  7  / 2  1  / 2  0  15',\n",
       "  'American Management Services LLC',\n",
       "  'Monterey',\n",
       "  '56',\n",
       "  'Closure Permanent']]"
      ]
     },
     "execution_count": 24,
     "metadata": {},
     "output_type": "execute_result"
    }
   ],
   "source": [
    "pdf = pdfplumber.open(\"ca-warn-report.pdf\")\n",
    "table = pdf.pages[0].extract_table()\n",
    "table"
   ]
  },
  {
   "cell_type": "code",
   "execution_count": 64,
   "id": "fdbd1ae5",
   "metadata": {
    "scrolled": true
   },
   "outputs": [
    {
     "data": {
      "text/html": [
       "<div>\n",
       "<style scoped>\n",
       "    .dataframe tbody tr th:only-of-type {\n",
       "        vertical-align: middle;\n",
       "    }\n",
       "\n",
       "    .dataframe tbody tr th {\n",
       "        vertical-align: top;\n",
       "    }\n",
       "\n",
       "    .dataframe thead th {\n",
       "        text-align: right;\n",
       "    }\n",
       "</style>\n",
       "<table border=\"1\" class=\"dataframe\">\n",
       "  <thead>\n",
       "    <tr style=\"text-align: right;\">\n",
       "      <th></th>\n",
       "      <th>Notice Date</th>\n",
       "      <th>Effective</th>\n",
       "      <th>Received</th>\n",
       "      <th>Company</th>\n",
       "      <th>City</th>\n",
       "      <th>No. Of</th>\n",
       "      <th>Layoff/Closure</th>\n",
       "    </tr>\n",
       "  </thead>\n",
       "  <tbody>\n",
       "    <tr>\n",
       "      <th>0</th>\n",
       "      <td>06/22/2015</td>\n",
       "      <td>0  3  / 2  5  / 2  0  16</td>\n",
       "      <td>0  7  / 0  1  / 2  0  15</td>\n",
       "      <td>Maxim Integrated Product</td>\n",
       "      <td>San Jose</td>\n",
       "      <td>150</td>\n",
       "      <td>Closure Permanent</td>\n",
       "    </tr>\n",
       "    <tr>\n",
       "      <th>1</th>\n",
       "      <td>06/30/2015</td>\n",
       "      <td>0  8  / 2  9  / 2  0  15</td>\n",
       "      <td>0  7  / 0  1  / 2  0  15</td>\n",
       "      <td>McGraw-Hill Education</td>\n",
       "      <td>Monterey</td>\n",
       "      <td>137</td>\n",
       "      <td>Layoff Unknown at this time</td>\n",
       "    </tr>\n",
       "    <tr>\n",
       "      <th>2</th>\n",
       "      <td>06/30/2015</td>\n",
       "      <td>0  8  / 3  0  / 2  0  15</td>\n",
       "      <td>0  7  / 0  1  / 2  0  15</td>\n",
       "      <td>Long Beach Memorial Medical Center</td>\n",
       "      <td>Long Beach</td>\n",
       "      <td>90</td>\n",
       "      <td>Layoff Permanent</td>\n",
       "    </tr>\n",
       "    <tr>\n",
       "      <th>3</th>\n",
       "      <td>07/01/2015</td>\n",
       "      <td>0  9  / 0  2  / 2  0  15</td>\n",
       "      <td>0  7  / 0  1  / 2  0  15</td>\n",
       "      <td>Leidos</td>\n",
       "      <td>El Segundo</td>\n",
       "      <td>72</td>\n",
       "      <td>Layoff Permanent</td>\n",
       "    </tr>\n",
       "    <tr>\n",
       "      <th>4</th>\n",
       "      <td>07/01/2015</td>\n",
       "      <td>0  9  / 3  0  / 2  0  16</td>\n",
       "      <td>0  7  / 0  1  / 2  0  15</td>\n",
       "      <td>Bosch Healthcare Systems, Inc.</td>\n",
       "      <td>Palo Alto</td>\n",
       "      <td>55</td>\n",
       "      <td>Closure Permanent</td>\n",
       "    </tr>\n",
       "    <tr>\n",
       "      <th>5</th>\n",
       "      <td>06/29/2015</td>\n",
       "      <td>0  9  / 0  1  / 2  0  15</td>\n",
       "      <td>0  7  / 0  2  / 2  0  15</td>\n",
       "      <td>Encompass Digital Media, Inc.</td>\n",
       "      <td>Los Angeles</td>\n",
       "      <td>41</td>\n",
       "      <td>Closure Permanent</td>\n",
       "    </tr>\n",
       "    <tr>\n",
       "      <th>6</th>\n",
       "      <td>07/02/2015</td>\n",
       "      <td>0  7  / 0  6  / 2  0  15</td>\n",
       "      <td>0  7  / 0  2  / 2  0  15</td>\n",
       "      <td>Alphatec Spine</td>\n",
       "      <td>Carlsbad</td>\n",
       "      <td>99</td>\n",
       "      <td>Layoff Permanent</td>\n",
       "    </tr>\n",
       "    <tr>\n",
       "      <th>7</th>\n",
       "      <td>06/30/2015</td>\n",
       "      <td>0  8  / 0  7  / 2  0  15</td>\n",
       "      <td>0  7  / 0  6  / 2  0  15</td>\n",
       "      <td>Symantec Corporation</td>\n",
       "      <td>Mountain View</td>\n",
       "      <td>60</td>\n",
       "      <td>Layoff Permanent</td>\n",
       "    </tr>\n",
       "    <tr>\n",
       "      <th>8</th>\n",
       "      <td>06/30/2015</td>\n",
       "      <td>0  8  / 3  1  / 2  0  15</td>\n",
       "      <td>0  7  / 0  6  / 2  0  15</td>\n",
       "      <td>Fusion Contacts Centers, LLC</td>\n",
       "      <td>Santa Maria</td>\n",
       "      <td>50</td>\n",
       "      <td>Closure Permanent</td>\n",
       "    </tr>\n",
       "    <tr>\n",
       "      <th>9</th>\n",
       "      <td>06/30/2015</td>\n",
       "      <td>0  9  / 1  5  / 2  0  15</td>\n",
       "      <td>0  7  / 0  6  / 2  0  15</td>\n",
       "      <td>KLA-Tencor Corporation</td>\n",
       "      <td>Milpitas</td>\n",
       "      <td>213</td>\n",
       "      <td>Layoff Permanent</td>\n",
       "    </tr>\n",
       "    <tr>\n",
       "      <th>10</th>\n",
       "      <td>07/01/2015</td>\n",
       "      <td>0  9  / 0  4  / 2  0  15</td>\n",
       "      <td>0  7  / 0  6  / 2  0  15</td>\n",
       "      <td>Southern California Edison Company</td>\n",
       "      <td>San Clemente</td>\n",
       "      <td>100</td>\n",
       "      <td>Closure Permanent</td>\n",
       "    </tr>\n",
       "    <tr>\n",
       "      <th>11</th>\n",
       "      <td>07/02/2015</td>\n",
       "      <td>0  9  / 0  1  / 2  0  15</td>\n",
       "      <td>0  7  / 0  6  / 2  0  15</td>\n",
       "      <td>State Fish Company, Inc.</td>\n",
       "      <td>Wilmington</td>\n",
       "      <td>76</td>\n",
       "      <td>Closure Permanent</td>\n",
       "    </tr>\n",
       "    <tr>\n",
       "      <th>12</th>\n",
       "      <td>07/02/2015</td>\n",
       "      <td>0  9  / 0  4  / 2  0  15</td>\n",
       "      <td>0  7  / 0  6  / 2  0  15</td>\n",
       "      <td>Boeing Company</td>\n",
       "      <td>Long Beach</td>\n",
       "      <td>56</td>\n",
       "      <td>Layoff Unknown at this time</td>\n",
       "    </tr>\n",
       "    <tr>\n",
       "      <th>13</th>\n",
       "      <td>07/06/2015</td>\n",
       "      <td>0  9  / 0  4  / 2  0  15</td>\n",
       "      <td>0  7  / 0  6  / 2  0  15</td>\n",
       "      <td>Bridgepoint Education, Inc.</td>\n",
       "      <td>San Diego</td>\n",
       "      <td>7</td>\n",
       "      <td>Layoff Permanent</td>\n",
       "    </tr>\n",
       "    <tr>\n",
       "      <th>14</th>\n",
       "      <td>07/06/2015</td>\n",
       "      <td>0  9  / 0  4  / 2  0  15</td>\n",
       "      <td>0  7  / 0  6  / 2  0  15</td>\n",
       "      <td>Bridgepoint Education, Inc.</td>\n",
       "      <td>San Diego</td>\n",
       "      <td>15</td>\n",
       "      <td>Layoff Permanent</td>\n",
       "    </tr>\n",
       "    <tr>\n",
       "      <th>15</th>\n",
       "      <td>07/01/2015</td>\n",
       "      <td>0  6  / 2  9  / 2  0  15</td>\n",
       "      <td>0  7  / 0  7  / 2  0  15</td>\n",
       "      <td>BAE Systems</td>\n",
       "      <td>San Francisco</td>\n",
       "      <td>4</td>\n",
       "      <td>Layoff Temporary</td>\n",
       "    </tr>\n",
       "    <tr>\n",
       "      <th>16</th>\n",
       "      <td>07/01/2015</td>\n",
       "      <td>0  6  / 2  9  / 2  0  15</td>\n",
       "      <td>0  7  / 0  7  / 2  0  15</td>\n",
       "      <td>BAE Systems</td>\n",
       "      <td>San Francisco</td>\n",
       "      <td>78</td>\n",
       "      <td>Layoff Temporary</td>\n",
       "    </tr>\n",
       "    <tr>\n",
       "      <th>17</th>\n",
       "      <td>07/01/2015</td>\n",
       "      <td>0  9  / 0  7  / 2  0  15</td>\n",
       "      <td>0  7  / 0  7  / 2  0  15</td>\n",
       "      <td>Bay Bread LLC dba Bakery Los Angeles</td>\n",
       "      <td>San Fernando</td>\n",
       "      <td>50</td>\n",
       "      <td>Closure Permanent</td>\n",
       "    </tr>\n",
       "    <tr>\n",
       "      <th>18</th>\n",
       "      <td>07/01/2015</td>\n",
       "      <td>0  9  / 2  5  / 2  0  15</td>\n",
       "      <td>0  7  / 0  7  / 2  0  15</td>\n",
       "      <td>Bay Bread LLC dba New French Bakery</td>\n",
       "      <td>South San</td>\n",
       "      <td>121</td>\n",
       "      <td>Closure Permanent</td>\n",
       "    </tr>\n",
       "    <tr>\n",
       "      <th>19</th>\n",
       "      <td>07/02/2015</td>\n",
       "      <td>0  6  / 1  2  / 2  0  15</td>\n",
       "      <td>0  7  / 0  7  / 2  0  15</td>\n",
       "      <td>Hewlett-Packard Company</td>\n",
       "      <td>Palo Alto</td>\n",
       "      <td>65</td>\n",
       "      <td>Layoff Permanent</td>\n",
       "    </tr>\n",
       "    <tr>\n",
       "      <th>20</th>\n",
       "      <td>07/08/2015</td>\n",
       "      <td>0  9  / 0  6  / 2  0  15</td>\n",
       "      <td>0  7  / 0  8  / 2  0  15</td>\n",
       "      <td>Microsoft Corporation</td>\n",
       "      <td>San Diego</td>\n",
       "      <td>129</td>\n",
       "      <td>Layoff Permanent</td>\n",
       "    </tr>\n",
       "    <tr>\n",
       "      <th>21</th>\n",
       "      <td>06/25/2015</td>\n",
       "      <td>1  0  / 0  9  / 2  0  15</td>\n",
       "      <td>0  7  / 1  0  / 2  0  15</td>\n",
       "      <td>Aramark Healthcare Support Services,</td>\n",
       "      <td>Culver City</td>\n",
       "      <td>53</td>\n",
       "      <td>Closure Permanent</td>\n",
       "    </tr>\n",
       "    <tr>\n",
       "      <th>22</th>\n",
       "      <td>07/01/2015</td>\n",
       "      <td>0  9  / 1  0  / 2  0  15</td>\n",
       "      <td>0  7  / 1  0  / 2  0  15</td>\n",
       "      <td>Maxim Integrated Product</td>\n",
       "      <td>San Jose</td>\n",
       "      <td>20</td>\n",
       "      <td>Layoff Permanent</td>\n",
       "    </tr>\n",
       "    <tr>\n",
       "      <th>23</th>\n",
       "      <td>07/06/2015</td>\n",
       "      <td>0  9  / 0  4  / 2  0  15</td>\n",
       "      <td>0  7  / 1  0  / 2  0  15</td>\n",
       "      <td>ProCourier, Inc.</td>\n",
       "      <td>San Diego</td>\n",
       "      <td>22</td>\n",
       "      <td>Layoff Unknown at this time</td>\n",
       "    </tr>\n",
       "    <tr>\n",
       "      <th>24</th>\n",
       "      <td>07/06/2015</td>\n",
       "      <td>0  9  / 0  4  / 2  0  15</td>\n",
       "      <td>0  7  / 1  0  / 2  0  15</td>\n",
       "      <td>ProCourier, Inc.</td>\n",
       "      <td>Los Angeles</td>\n",
       "      <td>71</td>\n",
       "      <td>Layoff Unknown at this time</td>\n",
       "    </tr>\n",
       "    <tr>\n",
       "      <th>25</th>\n",
       "      <td>07/07/2015</td>\n",
       "      <td>0  9  / 0  4  / 2  0  15</td>\n",
       "      <td>0  7  / 1  0  / 2  0  15</td>\n",
       "      <td>ProCourier, Inc.</td>\n",
       "      <td>Irvine</td>\n",
       "      <td>22</td>\n",
       "      <td>Layoff Unknown at this time</td>\n",
       "    </tr>\n",
       "    <tr>\n",
       "      <th>26</th>\n",
       "      <td>07/09/2015</td>\n",
       "      <td>0  7  / 2  2  / 2  0  15</td>\n",
       "      <td>0  7  / 1  0  / 2  0  15</td>\n",
       "      <td>Berkeley Pyramid Alehouse</td>\n",
       "      <td>Berkeley</td>\n",
       "      <td>63</td>\n",
       "      <td>Closure Permanent</td>\n",
       "    </tr>\n",
       "    <tr>\n",
       "      <th>27</th>\n",
       "      <td>07/09/2015</td>\n",
       "      <td>0  9  / 1  4  / 2  0  15</td>\n",
       "      <td>0  7  / 1  0  / 2  0  15</td>\n",
       "      <td>Fireman's Fund Insurance Company</td>\n",
       "      <td>Novato</td>\n",
       "      <td>35</td>\n",
       "      <td>Layoff Permanent</td>\n",
       "    </tr>\n",
       "    <tr>\n",
       "      <th>28</th>\n",
       "      <td>06/30/2015</td>\n",
       "      <td>0  8  / 3  1  / 2  0  15</td>\n",
       "      <td>0  7  / 1  3  / 2  0  15</td>\n",
       "      <td>First Transit</td>\n",
       "      <td>San Bernardino</td>\n",
       "      <td>127</td>\n",
       "      <td>Layoff Permanent</td>\n",
       "    </tr>\n",
       "    <tr>\n",
       "      <th>29</th>\n",
       "      <td>06/30/2015</td>\n",
       "      <td>0  8  / 3  1  / 2  0  15</td>\n",
       "      <td>0  7  / 1  3  / 2  0  15</td>\n",
       "      <td>First Transit</td>\n",
       "      <td>Rancho</td>\n",
       "      <td>71</td>\n",
       "      <td>Layoff Permanent</td>\n",
       "    </tr>\n",
       "    <tr>\n",
       "      <th>30</th>\n",
       "      <td>07/10/2015</td>\n",
       "      <td>0  7  / 1  4  / 2  0  15</td>\n",
       "      <td>0  7  / 1  3  / 2  0  15</td>\n",
       "      <td>11 Main LLC</td>\n",
       "      <td>San Mateo</td>\n",
       "      <td>35</td>\n",
       "      <td>Closure Permanent</td>\n",
       "    </tr>\n",
       "    <tr>\n",
       "      <th>31</th>\n",
       "      <td>07/10/2015</td>\n",
       "      <td>0  7  / 1  4  / 2  0  15</td>\n",
       "      <td>0  7  / 1  3  / 2  0  15</td>\n",
       "      <td>11 Main LLC</td>\n",
       "      <td>Chico</td>\n",
       "      <td>44</td>\n",
       "      <td>Layoff Permanent</td>\n",
       "    </tr>\n",
       "    <tr>\n",
       "      <th>32</th>\n",
       "      <td>07/15/2015</td>\n",
       "      <td>0  7  / 1  5  / 2  0  15</td>\n",
       "      <td>0  7  / 1  5  / 2  0  15</td>\n",
       "      <td>TaylorMade Golf Company</td>\n",
       "      <td>Carlsbad</td>\n",
       "      <td>64</td>\n",
       "      <td>Layoff Permanent</td>\n",
       "    </tr>\n",
       "    <tr>\n",
       "      <th>33</th>\n",
       "      <td>07/08/2015</td>\n",
       "      <td>0  9  / 0  6  / 2  0  15</td>\n",
       "      <td>0  7  / 1  6  / 2  0  15</td>\n",
       "      <td>Southern California Edison Company</td>\n",
       "      <td>Rosemead</td>\n",
       "      <td>38</td>\n",
       "      <td>Layoff Permanent</td>\n",
       "    </tr>\n",
       "    <tr>\n",
       "      <th>34</th>\n",
       "      <td>07/14/2015</td>\n",
       "      <td>0  9  / 1  8  / 2  0  15</td>\n",
       "      <td>0  7  / 2  0  / 2  0  15</td>\n",
       "      <td>Actavis, Inc.</td>\n",
       "      <td>Corona</td>\n",
       "      <td>45</td>\n",
       "      <td>Layoff Permanent</td>\n",
       "    </tr>\n",
       "    <tr>\n",
       "      <th>35</th>\n",
       "      <td>07/17/2015</td>\n",
       "      <td>0  7  / 1  3  / 2  0  15</td>\n",
       "      <td>0  7  / 2  1  / 2  0  15</td>\n",
       "      <td>American Management Services LLC</td>\n",
       "      <td>Monterey</td>\n",
       "      <td>56</td>\n",
       "      <td>Closure Permanent</td>\n",
       "    </tr>\n",
       "  </tbody>\n",
       "</table>\n",
       "</div>"
      ],
      "text/plain": [
       "   Notice Date                 Effective                  Received  \\\n",
       "0   06/22/2015  0  3  / 2  5  / 2  0  16  0  7  / 0  1  / 2  0  15   \n",
       "1   06/30/2015  0  8  / 2  9  / 2  0  15  0  7  / 0  1  / 2  0  15   \n",
       "2   06/30/2015  0  8  / 3  0  / 2  0  15  0  7  / 0  1  / 2  0  15   \n",
       "3   07/01/2015  0  9  / 0  2  / 2  0  15  0  7  / 0  1  / 2  0  15   \n",
       "4   07/01/2015  0  9  / 3  0  / 2  0  16  0  7  / 0  1  / 2  0  15   \n",
       "5   06/29/2015  0  9  / 0  1  / 2  0  15  0  7  / 0  2  / 2  0  15   \n",
       "6   07/02/2015  0  7  / 0  6  / 2  0  15  0  7  / 0  2  / 2  0  15   \n",
       "7   06/30/2015  0  8  / 0  7  / 2  0  15  0  7  / 0  6  / 2  0  15   \n",
       "8   06/30/2015  0  8  / 3  1  / 2  0  15  0  7  / 0  6  / 2  0  15   \n",
       "9   06/30/2015  0  9  / 1  5  / 2  0  15  0  7  / 0  6  / 2  0  15   \n",
       "10  07/01/2015  0  9  / 0  4  / 2  0  15  0  7  / 0  6  / 2  0  15   \n",
       "11  07/02/2015  0  9  / 0  1  / 2  0  15  0  7  / 0  6  / 2  0  15   \n",
       "12  07/02/2015  0  9  / 0  4  / 2  0  15  0  7  / 0  6  / 2  0  15   \n",
       "13  07/06/2015  0  9  / 0  4  / 2  0  15  0  7  / 0  6  / 2  0  15   \n",
       "14  07/06/2015  0  9  / 0  4  / 2  0  15  0  7  / 0  6  / 2  0  15   \n",
       "15  07/01/2015  0  6  / 2  9  / 2  0  15  0  7  / 0  7  / 2  0  15   \n",
       "16  07/01/2015  0  6  / 2  9  / 2  0  15  0  7  / 0  7  / 2  0  15   \n",
       "17  07/01/2015  0  9  / 0  7  / 2  0  15  0  7  / 0  7  / 2  0  15   \n",
       "18  07/01/2015  0  9  / 2  5  / 2  0  15  0  7  / 0  7  / 2  0  15   \n",
       "19  07/02/2015  0  6  / 1  2  / 2  0  15  0  7  / 0  7  / 2  0  15   \n",
       "20  07/08/2015  0  9  / 0  6  / 2  0  15  0  7  / 0  8  / 2  0  15   \n",
       "21  06/25/2015  1  0  / 0  9  / 2  0  15  0  7  / 1  0  / 2  0  15   \n",
       "22  07/01/2015  0  9  / 1  0  / 2  0  15  0  7  / 1  0  / 2  0  15   \n",
       "23  07/06/2015  0  9  / 0  4  / 2  0  15  0  7  / 1  0  / 2  0  15   \n",
       "24  07/06/2015  0  9  / 0  4  / 2  0  15  0  7  / 1  0  / 2  0  15   \n",
       "25  07/07/2015  0  9  / 0  4  / 2  0  15  0  7  / 1  0  / 2  0  15   \n",
       "26  07/09/2015  0  7  / 2  2  / 2  0  15  0  7  / 1  0  / 2  0  15   \n",
       "27  07/09/2015  0  9  / 1  4  / 2  0  15  0  7  / 1  0  / 2  0  15   \n",
       "28  06/30/2015  0  8  / 3  1  / 2  0  15  0  7  / 1  3  / 2  0  15   \n",
       "29  06/30/2015  0  8  / 3  1  / 2  0  15  0  7  / 1  3  / 2  0  15   \n",
       "30  07/10/2015  0  7  / 1  4  / 2  0  15  0  7  / 1  3  / 2  0  15   \n",
       "31  07/10/2015  0  7  / 1  4  / 2  0  15  0  7  / 1  3  / 2  0  15   \n",
       "32  07/15/2015  0  7  / 1  5  / 2  0  15  0  7  / 1  5  / 2  0  15   \n",
       "33  07/08/2015  0  9  / 0  6  / 2  0  15  0  7  / 1  6  / 2  0  15   \n",
       "34  07/14/2015  0  9  / 1  8  / 2  0  15  0  7  / 2  0  / 2  0  15   \n",
       "35  07/17/2015  0  7  / 1  3  / 2  0  15  0  7  / 2  1  / 2  0  15   \n",
       "\n",
       "                                 Company            City No. Of  \\\n",
       "0               Maxim Integrated Product        San Jose    150   \n",
       "1                  McGraw-Hill Education        Monterey    137   \n",
       "2     Long Beach Memorial Medical Center      Long Beach     90   \n",
       "3                                 Leidos      El Segundo     72   \n",
       "4         Bosch Healthcare Systems, Inc.       Palo Alto     55   \n",
       "5          Encompass Digital Media, Inc.     Los Angeles     41   \n",
       "6                         Alphatec Spine        Carlsbad     99   \n",
       "7                   Symantec Corporation   Mountain View     60   \n",
       "8           Fusion Contacts Centers, LLC     Santa Maria     50   \n",
       "9                 KLA-Tencor Corporation        Milpitas    213   \n",
       "10    Southern California Edison Company    San Clemente    100   \n",
       "11              State Fish Company, Inc.      Wilmington     76   \n",
       "12                        Boeing Company      Long Beach     56   \n",
       "13           Bridgepoint Education, Inc.       San Diego      7   \n",
       "14           Bridgepoint Education, Inc.       San Diego     15   \n",
       "15                           BAE Systems   San Francisco      4   \n",
       "16                           BAE Systems   San Francisco     78   \n",
       "17  Bay Bread LLC dba Bakery Los Angeles    San Fernando     50   \n",
       "18   Bay Bread LLC dba New French Bakery       South San    121   \n",
       "19               Hewlett-Packard Company       Palo Alto     65   \n",
       "20                 Microsoft Corporation       San Diego    129   \n",
       "21  Aramark Healthcare Support Services,     Culver City     53   \n",
       "22              Maxim Integrated Product        San Jose     20   \n",
       "23                      ProCourier, Inc.       San Diego     22   \n",
       "24                      ProCourier, Inc.     Los Angeles     71   \n",
       "25                      ProCourier, Inc.          Irvine     22   \n",
       "26             Berkeley Pyramid Alehouse        Berkeley     63   \n",
       "27      Fireman's Fund Insurance Company          Novato     35   \n",
       "28                         First Transit  San Bernardino    127   \n",
       "29                         First Transit          Rancho     71   \n",
       "30                           11 Main LLC       San Mateo     35   \n",
       "31                           11 Main LLC           Chico     44   \n",
       "32               TaylorMade Golf Company        Carlsbad     64   \n",
       "33    Southern California Edison Company        Rosemead     38   \n",
       "34                         Actavis, Inc.          Corona     45   \n",
       "35      American Management Services LLC        Monterey     56   \n",
       "\n",
       "                 Layoff/Closure  \n",
       "0             Closure Permanent  \n",
       "1   Layoff Unknown at this time  \n",
       "2              Layoff Permanent  \n",
       "3              Layoff Permanent  \n",
       "4             Closure Permanent  \n",
       "5             Closure Permanent  \n",
       "6              Layoff Permanent  \n",
       "7              Layoff Permanent  \n",
       "8             Closure Permanent  \n",
       "9              Layoff Permanent  \n",
       "10            Closure Permanent  \n",
       "11            Closure Permanent  \n",
       "12  Layoff Unknown at this time  \n",
       "13             Layoff Permanent  \n",
       "14             Layoff Permanent  \n",
       "15             Layoff Temporary  \n",
       "16             Layoff Temporary  \n",
       "17            Closure Permanent  \n",
       "18            Closure Permanent  \n",
       "19             Layoff Permanent  \n",
       "20             Layoff Permanent  \n",
       "21            Closure Permanent  \n",
       "22             Layoff Permanent  \n",
       "23  Layoff Unknown at this time  \n",
       "24  Layoff Unknown at this time  \n",
       "25  Layoff Unknown at this time  \n",
       "26            Closure Permanent  \n",
       "27             Layoff Permanent  \n",
       "28             Layoff Permanent  \n",
       "29             Layoff Permanent  \n",
       "30            Closure Permanent  \n",
       "31             Layoff Permanent  \n",
       "32             Layoff Permanent  \n",
       "33             Layoff Permanent  \n",
       "34             Layoff Permanent  \n",
       "35            Closure Permanent  "
      ]
     },
     "execution_count": 64,
     "metadata": {},
     "output_type": "execute_result"
    }
   ],
   "source": [
    "df = pd.DataFrame(table[1:], columns=table[0])\n",
    "df"
   ]
  },
  {
   "cell_type": "markdown",
   "id": "5c39b91f",
   "metadata": {},
   "source": [
    "## Task 3\n",
    "Calculate average difference in days between Effective and Received"
   ]
  },
  {
   "cell_type": "code",
   "execution_count": 65,
   "id": "6ae15ee1",
   "metadata": {},
   "outputs": [
    {
     "name": "stdout",
     "output_type": "stream",
     "text": [
      "60 days 21:20:00 60\n"
     ]
    }
   ],
   "source": [
    "df.Effective = df.Effective.str.replace(' ', '')\n",
    "df.Received = df.Received.str.replace(' ', '')\n",
    "df.Effective = pd.to_datetime(df.Effective)\n",
    "df.Received = pd.to_datetime(df.Received)\n",
    "time_difference = (df.Effective - df.Received).mean()\n",
    "print(time_difference, time_difference.days)"
   ]
  },
  {
   "cell_type": "markdown",
   "id": "d867bf5b",
   "metadata": {},
   "source": [
    "# OCR"
   ]
  },
  {
   "cell_type": "code",
   "execution_count": 29,
   "id": "f8cdc5a9",
   "metadata": {},
   "outputs": [],
   "source": [
    "pytesseract.pytesseract.tesseract_cmd = 'C:/Program Files/Tesseract-OCR/tesseract.exe' \n",
    "import pytesseract\n",
    "from PIL import Image\n",
    "import numpy as np\n",
    "import cv2\n",
    "import matplotlib.pyplot as plt"
   ]
  },
  {
   "cell_type": "code",
   "execution_count": 3,
   "id": "498b16bf",
   "metadata": {},
   "outputs": [
    {
     "data": {
      "image/png": "[encoded data removed]",
      "text/plain": [
       "<PIL.PngImagePlugin.PngImageFile image mode=RGB size=500x250 at 0x22F60B6DFD0>"
      ]
     },
     "execution_count": 3,
     "metadata": {},
     "output_type": "execute_result"
    }
   ],
   "source": [
    "img = Image.open(\"example_01.png\")\n",
    "img"
   ]
  },
  {
   "cell_type": "code",
   "execution_count": 10,
   "id": "52977b4a",
   "metadata": {},
   "outputs": [
    {
     "name": "stdout",
     "output_type": "stream",
     "text": [
      "Noisyimage\n",
      "to test\n",
      "Tesseract OCR\n",
      "\f",
      "\n"
     ]
    }
   ],
   "source": [
    "print(pytesseract.image_to_string(img))"
   ]
  },
  {
   "cell_type": "code",
   "execution_count": 12,
   "id": "72b555b7",
   "metadata": {},
   "outputs": [
    {
     "data": {
      "image/png": "[encoded data removed]",
      "text/plain": [
       "<PIL.PngImagePlugin.PngImageFile image mode=RGB size=500x250 at 0x22F60B93B50>"
      ]
     },
     "execution_count": 12,
     "metadata": {},
     "output_type": "execute_result"
    }
   ],
   "source": [
    "img = Image.open(\"example_02.png\")\n",
    "img"
   ]
  },
  {
   "cell_type": "code",
   "execution_count": 13,
   "id": "5d09f15e",
   "metadata": {},
   "outputs": [
    {
     "name": "stdout",
     "output_type": "stream",
     "text": [
      "_ Tesseract Will\n",
      "Fail With Noisy\n",
      "_ Backgrounds —\n",
      "\f",
      "\n"
     ]
    }
   ],
   "source": [
    "print(pytesseract.image_to_string(img))"
   ]
  },
  {
   "cell_type": "markdown",
   "id": "28a377d0",
   "metadata": {},
   "source": [
    "## Task 4\n",
    "Read perfectly text from example_02"
   ]
  },
  {
   "cell_type": "code",
   "execution_count": 30,
   "id": "12e91f39",
   "metadata": {},
   "outputs": [
    {
     "name": "stdout",
     "output_type": "stream",
     "text": [
      "Tesseract Will\n",
      "Fail With Noisy\n",
      "Backgrounds\n",
      "\f",
      "\n"
     ]
    },
    {
     "data": {
      "text/plain": [
       "<matplotlib.image.AxesImage at 0x22f03f94790>"
      ]
     },
     "execution_count": 30,
     "metadata": {},
     "output_type": "execute_result"
    },
    {
     "data": {
      "image/png": "[encoded data removed]",
      "text/plain": [
       "<Figure size 432x288 with 1 Axes>"
      ]
     },
     "metadata": {
      "needs_background": "light"
     },
     "output_type": "display_data"
    }
   ],
   "source": [
    "my_image = cv2.cvtColor(np.array(img), cv2.COLOR_BGR2GRAY)\n",
    "dummy, filtered_image = cv2.threshold(my_image, 40, 245, cv2.THRESH_BINARY)\n",
    "print(pytesseract.image_to_string(filtered_image))\n",
    "plt.imshow(filtered_image)"
   ]
  },
  {
   "cell_type": "code",
   "execution_count": 23,
   "id": "74f0d779",
   "metadata": {},
   "outputs": [
    {
     "name": "stdout",
     "output_type": "stream",
     "text": [
      "_ Tesseract Will\n",
      "Fail With Noisy\n",
      "_ Backgrounds —\n",
      "\f",
      "\n"
     ]
    }
   ],
   "source": [
    "print(pytesseract.image_to_string(img))"
   ]
  },
  {
   "cell_type": "markdown",
   "id": "e38f1d97",
   "metadata": {},
   "source": [
    "## Task 5\n",
    "Read nearly perfectly text from vin.png, 2 errors allowed (missing char, additional char, wrong char)"
   ]
  },
  {
   "cell_type": "code",
   "execution_count": 181,
   "id": "ad950226",
   "metadata": {},
   "outputs": [
    {
     "data": {
      "text/plain": [
       "'\\x0c'"
      ]
     },
     "execution_count": 181,
     "metadata": {},
     "output_type": "execute_result"
    },
    {
     "data": {
      "image/png": "[encoded data removed]",
      "text/plain": [
       "<Figure size 432x288 with 1 Axes>"
      ]
     },
     "metadata": {
      "needs_background": "light"
     },
     "output_type": "display_data"
    }
   ],
   "source": [
    "# This didnt work \n",
    "#-------------------\n",
    "import skimage.filters as skimage_filters\n",
    "vin_image = cv2.imread(\"vin.png\", 1)\n",
    "gray_vin = cv2.cvtColor(vin_image, cv2.COLOR_BGR2GRAY)\n",
    "clahe_obj = cv2.createCLAHE(clipLimit=2.071428571428571, tileGridSize=(5, 5))\n",
    "clahed_vin = clahe_obj.apply(gray_vin)\n",
    "thresh = cv2.adaptiveThreshold(clahed_vin, 255, cv2.ADAPTIVE_THRESH_MEAN_C, cv2.THRESH_BINARY_INV, 71, 110)\n",
    "plt.imshow(thresh)\n",
    "pytesseract.image_to_string(thresh)\n",
    "#-------------------\n"
   ]
  },
  {
   "cell_type": "code",
   "execution_count": null,
   "id": "f5c090cb",
   "metadata": {},
   "outputs": [],
   "source": [
    "# Brute force\n",
    "#-------------------\n",
    "vin_image = cv2.imread(\"vin.png\", 1)\n",
    "gray_vin = cv2.cvtColor(vin_image, cv2.COLOR_BGR2GRAY)\n",
    "\n",
    "desired = \"MRHRW5810KP102174\"\n",
    "\n",
    "# with open('filename2.txt', 'w+') as f:\n",
    "#     f.write(\"\")\n",
    "\n",
    "best_distance = 100\n",
    "final_clip = 0\n",
    "final_x = 0\n",
    "final_l = 0\n",
    "gg = 0\n",
    "for clipLimit in np.linspace(1.0, 4.0, num=15):\n",
    "    for x in range(1, 15):\n",
    "        clahe_obj = cv2.createCLAHE(clipLimit=clipLimit, tileGridSize=(x, x))\n",
    "        clahed_vin = clahe_obj.apply(gray_vin)\n",
    "        for l in range(40, 110):\n",
    "            gg += 1\n",
    "            dummy, filtered_image = cv2.threshold(clahed_vin, l, 255, cv2.THRESH_BINARY)\n",
    "            output = pytesseract.image_to_string(filtered_image)\n",
    "            new_distance = Lev.distance(desired, output)\n",
    "            print(\"START:\")\n",
    "            print(str(output).strip())\n",
    "            if new_distance > 16:\n",
    "                new_distance = 17\n",
    "            print(\"}}}} \", clipLimit, x, l, gg, \"new distance:\", new_distance)\n",
    "            with open('filename.txt', 'a') as f:\n",
    "                f.write(\n",
    "                    \"\\n }}}} \" + \" \" + str(clipLimit) + \" \" + str(x) + \" \" + str(l) + \" \" + str(gg) + \" \" + \"new distance:\" + \" \" + str(new_distance))\n",
    "            # if new_distance < best_distance:\n",
    "            #     best_distance = new_distance\n",
    "            #     print(new_distance, output, clipLimit, x, l)\n",
    "            #     final_clip = clipLimit\n",
    "            #     final_x = x\n",
    "            #     final_l = l\n",
    "            # if gg > 5000:\n",
    "            #     break\n",
    "\n",
    "print(\"Konec\", final_clip, final_x, final_l)\n",
    "#-----------------------------"
   ]
  },
  {
   "cell_type": "code",
   "execution_count": 183,
   "id": "627ba399",
   "metadata": {},
   "outputs": [
    {
     "name": "stdout",
     "output_type": "stream",
     "text": [
      "MRHRW5810KP 10217\n",
      "\f",
      "\n",
      "2\n"
     ]
    }
   ],
   "source": [
    "vin_image = cv2.imread(\"vin.png\", 1)\n",
    "gray_vin = cv2.cvtColor(vin_image, cv2.COLOR_BGR2GRAY)\n",
    "clahe_obj = cv2.createCLAHE(clipLimit=2.071428571428571, tileGridSize=(5, 5))\n",
    "clahed_vin = clahe_obj.apply(gray_vin)\n",
    "dummy, filtered_image = cv2.threshold(clahed_vin, 68, 255, cv2.THRESH_BINARY)\n",
    "output = pytesseract.image_to_string(filtered_image)\n",
    "print(output)\n",
    "print(Lev.distance(output.strip(), \"MRHRW5810KP102174\"))\n",
    "# It was said during the classes, that white spaces before or after text doesnt count into the sum of errors allowed.\n",
    "# Other possible solutions: (clipLimit, gridSize, lThreshold)\n",
    "# 2.071428571428571 5 68\n",
    "# 1.6428571428571428 9 84 2035\n",
    "# 2.071428571428571 5 68 2979"
   ]
  }
 ],
 "metadata": {
  "kernelspec": {
   "display_name": "Python 3 (ipykernel)",
   "language": "python",
   "name": "python3"
  },
  "language_info": {
   "codemirror_mode": {
    "name": "ipython",
    "version": 3
   },
   "file_extension": ".py",
   "mimetype": "text/x-python",
   "name": "python",
   "nbconvert_exporter": "python",
   "pygments_lexer": "ipython3",
   "version": "3.9.6"
  }
 },
 "nbformat": 4,
 "nbformat_minor": 5
}
