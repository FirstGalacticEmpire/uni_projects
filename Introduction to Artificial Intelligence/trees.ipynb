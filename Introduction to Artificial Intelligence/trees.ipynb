{
 "cells": [
  {
   "cell_type": "code",
   "execution_count": 1,
   "metadata": {},
   "outputs": [],
   "source": [
    "import numpy as np\n",
    "import math\n",
    "import matplotlib.pyplot as plt\n",
    "import pandas as pd\n",
    "import common as cm"
   ]
  },
  {
   "cell_type": "markdown",
   "metadata": {},
   "source": [
    "# Part 1: Information Gain"
   ]
  },
  {
   "cell_type": "markdown",
   "metadata": {},
   "source": [
    "Important note: this exercise uses Pandas (for data manipulation and analysis) and Graphviz (for graph-drawing) libraries. "
   ]
  },
  {
   "cell_type": "markdown",
   "metadata": {},
   "source": [
    "This exercise consists of 3 parts. Complete the first part to get a mark of 3.0, the first two parts to get 4.0, complete all assignments to get 5.0. "
   ]
  },
  {
   "cell_type": "markdown",
   "metadata": {},
   "source": [
    "1.1 ) There are 10 objects (data) characterized with 5 binary attributes:"
   ]
  },
  {
   "cell_type": "code",
   "execution_count": 2,
   "metadata": {},
   "outputs": [],
   "source": [
    "attributeNames = [\"attr 1\", \"attr 2\", \"attr 3\", \"attr 4\", \"attr 5\"]\n",
    "\n",
    "data = pd.DataFrame(\n",
    "    [\n",
    "        [1, 0, 1, 1, 1],\n",
    "        [1, 1, 0, 0, 1],\n",
    "        [0, 1, 1, 1, 1],\n",
    "        [1, 0, 1, 0, 1],\n",
    "        [1, 0, 0, 1, 1],\n",
    "        [0, 0, 1, 1, 1],\n",
    "        [1, 1, 1, 1, 1],\n",
    "        [1, 0, 0, 1, 1],\n",
    "        [0, 1, 0, 0, 1],\n",
    "        [0, 0, 0, 1, 1],\n",
    "    ],\n",
    "    columns=attributeNames,\n",
    ")"
   ]
  },
  {
   "cell_type": "markdown",
   "metadata": {},
   "source": [
    "1.2) Each object is assigned to either a class \"0\" or \"1\". The assignments are as follows (cl):"
   ]
  },
  {
   "cell_type": "code",
   "execution_count": 3,
   "metadata": {},
   "outputs": [],
   "source": [
    "data[\"cl\"] = [1, 1, 1, 0, 0, 1, 1, 1, 0, 0]"
   ]
  },
  {
   "cell_type": "markdown",
   "metadata": {},
   "source": [
    "Hint: How one can read data (columns) in Pandas"
   ]
  },
  {
   "cell_type": "code",
   "execution_count": 4,
   "metadata": {},
   "outputs": [
    {
     "name": "stdout",
     "output_type": "stream",
     "text": [
      "0    1\n",
      "1    1\n",
      "2    1\n",
      "3    0\n",
      "4    0\n",
      "5    1\n",
      "6    1\n",
      "7    1\n",
      "8    0\n",
      "9    0\n",
      "Name: cl, dtype: int64\n",
      "[1, 1, 1, 0, 0, 1, 1, 1, 0, 0]\n",
      "{0, 1}\n",
      "0    1\n",
      "1    1\n",
      "2    0\n",
      "3    1\n",
      "4    1\n",
      "5    0\n",
      "6    1\n",
      "7    1\n",
      "8    0\n",
      "9    0\n",
      "Name: attr 1, dtype: int64\n"
     ]
    }
   ],
   "source": [
    "print(data[\"cl\"])\n",
    "print(list(data[\"cl\"]))\n",
    "print(set(data[\"cl\"]))\n",
    "print(data[\"attr 1\"])"
   ]
  },
  {
   "cell_type": "markdown",
   "metadata": {},
   "source": [
    "1.3 )  Finish the below function for calculating entropy. $H(CL) = - \\sum_{y \\in CL}p(y)log_2p(y)$ It should return a value of entropy for an input vector CL. Assume that $log_2(0)$ is equal to 0."
   ]
  },
  {
   "cell_type": "code",
   "execution_count": 5,
   "metadata": {},
   "outputs": [],
   "source": [
    "def getEntropy(cl):\n",
    "    class_num = len(set(cl))\n",
    "    class_probab = [0]*class_num\n",
    "    \n",
    "    for val in cl:\n",
    "        if val != class_num:\n",
    "            class_probab[val] += 1\n",
    "        else:\n",
    "            class_probab[0] += 1\n",
    "    for i in range(len(class_probab)):\n",
    "        class_probab[i] /= len(cl)\n",
    "        \n",
    "    entropy = 0\n",
    "    for probab in class_probab:\n",
    "        if probab != 0:\n",
    "            entropy += - probab * math.log(probab, 2)\n",
    "    entropy = round(entropy, 5)\n",
    "    return entropy"
   ]
  },
  {
   "cell_type": "markdown",
   "metadata": {},
   "source": [
    "1.4 ) Calculate the entropy for the CL vector:"
   ]
  },
  {
   "cell_type": "code",
   "execution_count": 6,
   "metadata": {},
   "outputs": [
    {
     "data": {
      "text/plain": [
       "0.97095"
      ]
     },
     "execution_count": 6,
     "metadata": {},
     "output_type": "execute_result"
    }
   ],
   "source": [
    "getEntropy(data[\"cl\"])"
   ]
  },
  {
   "cell_type": "markdown",
   "metadata": {},
   "source": [
    "1.5) Finish the below function for calculating a conditional entropy: $H(CL|X) = - \\sum_{x \\in X} \\sum_{y \\in CL} p(x,y) log_2 \\frac{p(x,y)}{p(x)}$. Assume that $log_2(0)$ is equal to 0 and if $p(x) = 0$, $\\frac{p(x,y)}{p(x)}$ is equal to 0 as well."
   ]
  },
  {
   "cell_type": "code",
   "execution_count": 7,
   "metadata": {},
   "outputs": [],
   "source": [
    "def getConditionalEntropy(cl, attr):\n",
    "    table = {0:[0, 0], 1:[0, 0]}\n",
    "    # 'key' is att's value (0 or 1) and 'value' is list which contains count of belonging to that group with value of its index\n",
    "    for i in range(len(attr)):\n",
    "        att = attr[i]\n",
    "        cl_att = cl[i]\n",
    "        \n",
    "        table[att][cl_att] += 1 # eg. att == 1 for cl == 0 occurs 4 times in the entire dataset, so we wanna count that\n",
    "    \n",
    "    for att, clas in table.items():\n",
    "        clas_elems = sum(clas)\n",
    "        partial_entropy = 0\n",
    "        for val in clas:\n",
    "            if clas_elems != 0:\n",
    "                probab = (val / clas_elems)\n",
    "                if probab != 0:\n",
    "                    partial_entropy += -probab * math.log(probab, 2)\n",
    "        table[att] = [partial_entropy, clas_elems]\n",
    "    \n",
    "    entropy = 0\n",
    "    for att, entr_elems in table.items():\n",
    "        clas_proba = entr_elems[1] / len(cl) # entr_elems[0] = partial entropy; entr_elems[1] = number of classes it belonged to\n",
    "        entropy += clas_proba * entr_elems[0]\n",
    "    \n",
    "    return entropy"
   ]
  },
  {
   "cell_type": "markdown",
   "metadata": {},
   "source": [
    "1.6 ) Calculate conditional entropies for given attribiutes."
   ]
  },
  {
   "cell_type": "code",
   "execution_count": 8,
   "metadata": {},
   "outputs": [
    {
     "name": "stdout",
     "output_type": "stream",
     "text": [
      "0.9509775004326937\n",
      "0.9709505944546686\n"
     ]
    }
   ],
   "source": [
    "print(getConditionalEntropy(data[\"cl\"], data[\"attr 1\"]))\n",
    "print(getConditionalEntropy(data[\"cl\"], data[\"attr 5\"]))"
   ]
  },
  {
   "cell_type": "markdown",
   "metadata": {},
   "source": [
    "1.7 ) Which entropy is lesser and why?"
   ]
  },
  {
   "cell_type": "markdown",
   "metadata": {},
   "source": [
    "1.8) Finish the below function for calculating information gain:"
   ]
  },
  {
   "cell_type": "code",
   "execution_count": 9,
   "metadata": {},
   "outputs": [],
   "source": [
    "def getInformationGain(cl, attr):\n",
    "    conditionalEntropy = getConditionalEntropy(cl, attr)\n",
    "    entropy = getEntropy(cl)\n",
    "    information_gain = entropy - conditionalEntropy\n",
    "    return round(abs(information_gain), 5)"
   ]
  },
  {
   "cell_type": "code",
   "execution_count": 10,
   "metadata": {},
   "outputs": [
    {
     "name": "stdout",
     "output_type": "stream",
     "text": [
      "0.01997\n",
      "0.0\n"
     ]
    }
   ],
   "source": [
    "print(getInformationGain(data[\"cl\"], data[\"attr 1\"]))\n",
    "print(getInformationGain(data[\"cl\"], data[\"attr 5\"]))"
   ]
  },
  {
   "cell_type": "markdown",
   "metadata": {},
   "source": [
    "# Part 2: ID3 algorithm"
   ]
  },
  {
   "cell_type": "markdown",
   "metadata": {},
   "source": [
    "Decision tree consists of decision nodes and leaves. Nodes split data while leaves classify objects. Consider the class \"Node\" provided below. It consists of 4 fields:\n",
    "- attr - attribute ID (use the names in attributeNames vector)\n",
    "- left - left branch, i.e., a reference to other node\n",
    "- right - right branch, i.e., a reference to other node\n",
    "- value - a decision. If node = None, then the node is not a leaf. If value is not None, then a node is considered a leaf. \n",
    "\n",
    "Method __call__ returns the decision if the node is a leaf (i.e., when value is not None). \n",
    "Otherwise, it calls either the left or the right branch of an input object, based on the attribute value (0 -> left children; 1 -> right children). In this way, we can traverse the decision tree in order to find the final decision."
   ]
  },
  {
   "cell_type": "code",
   "execution_count": 11,
   "metadata": {},
   "outputs": [
    {
     "name": "stdout",
     "output_type": "stream",
     "text": [
      "3\n",
      "4\n",
      "2\n",
      "2\n"
     ]
    }
   ],
   "source": [
    "class Node:\n",
    "    def __init__(self, attr, left, right, value):\n",
    "        self.attr = attr\n",
    "        self.left = left\n",
    "        self.right = right\n",
    "        self.value = value\n",
    "\n",
    "    def __call__(self, obj):\n",
    "        if self.value is None:\n",
    "            if obj[self.attr] == 0:\n",
    "                return self.left(obj)\n",
    "            else:\n",
    "                return self.right(obj)\n",
    "        else:\n",
    "            return self.value\n",
    "        \n",
    "### EXAMPLE\n",
    "def example(obj):\n",
    "    root = Node(0, None, None, None)\n",
    "    lChildren = Node(1, None, None, None)\n",
    "    rChildren = Node(None, None, None, 2)\n",
    "    root.left = lChildren\n",
    "    root.right = rChildren\n",
    "    llChildren = Node(None, None, None, 3)\n",
    "    rrChildren = Node(None, None, None, 4)\n",
    "    lChildren.left = llChildren\n",
    "    lChildren.right = rrChildren\n",
    "    print(root(obj))\n",
    "    \n",
    "example([0, 0])\n",
    "example([0, 1])\n",
    "example([1, 0])\n",
    "example([1, 1])"
   ]
  },
  {
   "cell_type": "markdown",
   "metadata": {},
   "source": [
    "2.1) Create an initial root. Set the value (decision) to 1. "
   ]
  },
  {
   "cell_type": "code",
   "execution_count": 12,
   "metadata": {},
   "outputs": [],
   "source": [
    "root = Node(0, None, None, 1)"
   ]
  },
  {
   "cell_type": "markdown",
   "metadata": {},
   "source": [
    "2.2) Use a getErrorRate method in common.py auxiliary file to calculate the error rate. The decision is made based on the majority rule. In case of tie, the method takes 0 as the default class."
   ]
  },
  {
   "cell_type": "code",
   "execution_count": 13,
   "metadata": {},
   "outputs": [
    {
     "name": "stdout",
     "output_type": "stream",
     "text": [
      "0.4\n"
     ]
    }
   ],
   "source": [
    "error_rate = round(cm.getErrorRate(root, data), 5)\n",
    "print(error_rate)"
   ]
  },
  {
   "cell_type": "markdown",
   "metadata": {},
   "source": [
    "2.3) Use printGraph method (see the common.py file) to draw the decision tree and save it in a png file."
   ]
  },
  {
   "cell_type": "code",
   "execution_count": 14,
   "metadata": {},
   "outputs": [],
   "source": [
    "cm.printGraph(root, data)"
   ]
  },
  {
   "cell_type": "markdown",
   "metadata": {},
   "source": [
    "2.4) Calculate information gain for all attribiutes."
   ]
  },
  {
   "cell_type": "code",
   "execution_count": 15,
   "metadata": {},
   "outputs": [],
   "source": [
    "def printInformationGain(data):\n",
    "    gains = []\n",
    "    for attribute_name in attributeNames:\n",
    "        gains.append(getInformationGain(data['cl'], data[attribute_name]))\n",
    "    return gains\n",
    "        \n",
    "gains = printInformationGain(data)"
   ]
  },
  {
   "cell_type": "markdown",
   "metadata": {},
   "source": [
    "2.5) Choose the best attribute to split the data. Construct two new nodes: one for $x_i$ = 0 decision and the second for $x_i$ = 1; connect them with the root (left and right branch). Remember to update the root. "
   ]
  },
  {
   "cell_type": "code",
   "execution_count": 16,
   "metadata": {
    "scrolled": true
   },
   "outputs": [],
   "source": [
    "def get_indices_for_att(possible_val, att_values):\n",
    "    indices = [i for i in range(len(att_values)) if att_values[i] == possible_val]\n",
    "#     print('Indices for att = ' + str(possible_val) + ':', indices)\n",
    "    return indices\n",
    "\n",
    "def get_decision_value(att_best_gain, data):\n",
    "    att_values = data[att_best_gain]\n",
    "    classes = data['cl']\n",
    "    possible_values = set(att_values)\n",
    "    \n",
    "    majority = []\n",
    "    for possible_val in possible_values:\n",
    "        indices = get_indices_for_att(possible_val, att_values)\n",
    "        class_values = [classes[index] for index in indices]\n",
    "        majority_class = max(set(class_values), key=class_values.count)\n",
    "        majority.append(majority_class)\n",
    "    return majority\n",
    "\n",
    "best_gain = gains.index(max(gains))\n",
    "att_best_gain = attributeNames[best_gain]\n",
    "majority_classes = get_decision_value(att_best_gain, data)\n",
    "\n",
    "left_node = Node(majority_classes[0], None, None, majority_classes[0])\n",
    "right_node = Node(majority_classes[1], None, None, majority_classes[1])\n",
    "\n",
    "root.attr = att_best_gain\n",
    "root.left = left_node\n",
    "root.right = right_node\n",
    "root.value = None"
   ]
  },
  {
   "cell_type": "markdown",
   "metadata": {},
   "source": [
    "2.6) Print the graph and calculate the error rate. What happened with the error rate?"
   ]
  },
  {
   "cell_type": "code",
   "execution_count": 17,
   "metadata": {},
   "outputs": [
    {
     "name": "stdout",
     "output_type": "stream",
     "text": [
      "0.3\n"
     ]
    }
   ],
   "source": [
    "cm.printGraph(root, data)\n",
    "error_rate = round(cm.getErrorRate(root, data), 5)\n",
    "print(error_rate)"
   ]
  },
  {
   "cell_type": "markdown",
   "metadata": {},
   "source": [
    "2.7) Split the 'data' (table) based on the selected attribiute, i.e., create two new tables."
   ]
  },
  {
   "cell_type": "code",
   "execution_count": 18,
   "metadata": {},
   "outputs": [
    {
     "name": "stdout",
     "output_type": "stream",
     "text": [
      "\n",
      "left data:\n",
      "   attr 1  attr 2  attr 3  attr 4  attr 5  cl\n",
      "0       1       1       0       0       1   1\n",
      "1       1       0       0       1       1   0\n",
      "2       1       0       0       1       1   1\n",
      "3       0       1       0       0       1   0\n",
      "4       0       0       0       1       1   0\n",
      "\n",
      "right data:\n",
      "   attr 1  attr 2  attr 3  attr 4  attr 5  cl\n",
      "0       1       0       1       1       1   1\n",
      "1       0       1       1       1       1   1\n",
      "2       1       0       1       0       1   0\n",
      "3       0       0       1       1       1   1\n",
      "4       1       1       1       1       1   1\n"
     ]
    }
   ],
   "source": [
    "columns = [\"attr 1\", \"attr 2\", \"attr 3\", \"attr 4\", \"attr 5\", \"cl\"]\n",
    "att_values = data[att_best_gain]\n",
    "\n",
    "indices = get_indices_for_att(possible_val=0, att_values=att_values)\n",
    "left_data = pd.DataFrame([data.values[index] for index in indices], columns=columns)\n",
    "\n",
    "indices = get_indices_for_att(possible_val=1, att_values=att_values)\n",
    "right_data = pd.DataFrame([data.values[index] for index in indices], columns=columns)\n",
    "\n",
    "print('\\nleft data:\\n' + str(left_data))\n",
    "print('\\nright data:\\n' + str(right_data))"
   ]
  },
  {
   "cell_type": "markdown",
   "metadata": {},
   "source": [
    "2.8) Let us start with the left node. Firstly, calculate information gain for this node."
   ]
  },
  {
   "cell_type": "code",
   "execution_count": 19,
   "metadata": {},
   "outputs": [],
   "source": [
    "gains = printInformationGain(left_data)"
   ]
  },
  {
   "cell_type": "markdown",
   "metadata": {},
   "source": [
    "2.9) Choose the best attribute to split the data and then update the decision tree."
   ]
  },
  {
   "cell_type": "code",
   "execution_count": 20,
   "metadata": {},
   "outputs": [],
   "source": [
    "best_gain = gains.index(max(gains))\n",
    "att_best_gain = attributeNames[best_gain]\n",
    "majority_classes = get_decision_value(att_best_gain, data)\n",
    "\n",
    "left_node_1 = Node(majority_classes[0], None, None, majority_classes[0])\n",
    "right_node_1 = Node(majority_classes[1], None, None, majority_classes[1])\n",
    "\n",
    "left_node.attr = att_best_gain\n",
    "left_node.left = left_node_1\n",
    "left_node.right = right_node_1\n",
    "left_node.value = None"
   ]
  },
  {
   "cell_type": "markdown",
   "metadata": {},
   "source": [
    "2.10) Print the graph and calculate the error rate. What happened with the error rate?"
   ]
  },
  {
   "cell_type": "code",
   "execution_count": 22,
   "metadata": {},
   "outputs": [
    {
     "name": "stdout",
     "output_type": "stream",
     "text": [
      "0.2\n"
     ]
    }
   ],
   "source": [
    "cm.printGraph(root, data)\n",
    "error_rate = round(cm.getErrorRate(root, data), 5)\n",
    "print(error_rate)"
   ]
  },
  {
   "cell_type": "markdown",
   "metadata": {},
   "source": [
    "2.11) Split data (remember that we split left_data, not data)."
   ]
  },
  {
   "cell_type": "code",
   "execution_count": 23,
   "metadata": {},
   "outputs": [
    {
     "name": "stdout",
     "output_type": "stream",
     "text": [
      "\n",
      "left data:\n",
      "   attr 1  attr 2  attr 3  attr 4  attr 5  cl\n",
      "0       0       1       0       0       1   0\n",
      "1       0       0       0       1       1   0\n",
      "\n",
      "right data:\n",
      "   attr 1  attr 2  attr 3  attr 4  attr 5  cl\n",
      "0       1       1       0       0       1   1\n",
      "1       1       0       0       1       1   0\n",
      "2       1       0       0       1       1   1\n"
     ]
    }
   ],
   "source": [
    "att_values = left_data[att_best_gain]\n",
    "\n",
    "indices = get_indices_for_att(possible_val=0, att_values=att_values)\n",
    "left_data_1 = pd.DataFrame([left_data.values[index] for index in indices], columns=columns)\n",
    "\n",
    "indices = get_indices_for_att(possible_val=1, att_values=att_values)\n",
    "right_data_1 = pd.DataFrame([left_data.values[index] for index in indices], columns=columns)\n",
    "\n",
    "print('\\nleft data:\\n' + str(left_data_1))\n",
    "print('\\nright data:\\n' + str(right_data_1))"
   ]
  },
  {
   "cell_type": "markdown",
   "metadata": {},
   "source": [
    "2.12) Repeat the whole process for the right node."
   ]
  },
  {
   "cell_type": "code",
   "execution_count": 24,
   "metadata": {},
   "outputs": [],
   "source": [
    "gains = printInformationGain(right_data)"
   ]
  },
  {
   "cell_type": "code",
   "execution_count": 25,
   "metadata": {},
   "outputs": [],
   "source": [
    "best_gain = gains.index(max(gains))\n",
    "att_best_gain = attributeNames[best_gain]\n",
    "majority_classes = get_decision_value(att_best_gain, data)\n",
    "\n",
    "left_node_2 = Node(majority_classes[0], None, None, majority_classes[0])\n",
    "right_node_2 = Node(majority_classes[1], None, None, majority_classes[1])\n",
    "\n",
    "right_node.attr = att_best_gain\n",
    "right_node.left = left_node_2\n",
    "right_node.right = right_node_2\n",
    "right_node.value = None"
   ]
  },
  {
   "cell_type": "code",
   "execution_count": 26,
   "metadata": {},
   "outputs": [
    {
     "name": "stdout",
     "output_type": "stream",
     "text": [
      "0.1\n"
     ]
    }
   ],
   "source": [
    "cm.printGraph(root, data)\n",
    "error_rate = round(cm.getErrorRate(root, data), 5)\n",
    "print(error_rate)"
   ]
  },
  {
   "cell_type": "code",
   "execution_count": 27,
   "metadata": {},
   "outputs": [
    {
     "name": "stdout",
     "output_type": "stream",
     "text": [
      "\n",
      "left data:\n",
      "   attr 1  attr 2  attr 3  attr 4  attr 5  cl\n",
      "0       1       0       1       0       1   0\n",
      "\n",
      "right data:\n",
      "   attr 1  attr 2  attr 3  attr 4  attr 5  cl\n",
      "0       1       0       1       1       1   1\n",
      "1       0       1       1       1       1   1\n",
      "2       0       0       1       1       1   1\n",
      "3       1       1       1       1       1   1\n"
     ]
    }
   ],
   "source": [
    "att_values = right_data[att_best_gain]\n",
    "\n",
    "indices = get_indices_for_att(possible_val=0, att_values=att_values)\n",
    "left_data_2 = pd.DataFrame([right_data.values[index] for index in indices], columns=columns)\n",
    "\n",
    "indices = get_indices_for_att(possible_val=1, att_values=att_values)\n",
    "right_data_2 = pd.DataFrame([right_data.values[index] for index in indices], columns=columns)\n",
    "\n",
    "print('\\nleft data:\\n' + str(left_data_2))\n",
    "print('\\nright data:\\n' + str(right_data_2))"
   ]
  },
  {
   "cell_type": "markdown",
   "metadata": {},
   "source": [
    "2.13) Let's consider left-left node. Calculate information gain for it."
   ]
  },
  {
   "cell_type": "code",
   "execution_count": 28,
   "metadata": {},
   "outputs": [],
   "source": [
    "gains = printInformationGain(left_data_1)"
   ]
  },
  {
   "cell_type": "markdown",
   "metadata": {},
   "source": [
    "2.14) Will adding a new node to the tree improve its effectiveness? Why? Why not?"
   ]
  },
  {
   "cell_type": "markdown",
   "metadata": {},
   "source": [
    "2.15) Calculate information gain for the left-right node."
   ]
  },
  {
   "cell_type": "code",
   "execution_count": 29,
   "metadata": {},
   "outputs": [],
   "source": [
    "gains = printInformationGain(right_data_1)"
   ]
  },
  {
   "cell_type": "code",
   "execution_count": 30,
   "metadata": {},
   "outputs": [],
   "source": [
    "best_gain = gains.index(max(gains))\n",
    "att_best_gain = attributeNames[best_gain]\n",
    "majority_classes = get_decision_value(att_best_gain, data)\n",
    "\n",
    "left_node_3 = Node(majority_classes[0], None, None, majority_classes[0])\n",
    "right_node_3 = Node(majority_classes[1], None, None, majority_classes[1])\n",
    "\n",
    "right_node_1.attr = att_best_gain\n",
    "right_node_1.left = left_node_3\n",
    "right_node_1.right = right_node_3\n",
    "right_node_1.value = None"
   ]
  },
  {
   "cell_type": "code",
   "execution_count": 31,
   "metadata": {},
   "outputs": [
    {
     "name": "stdout",
     "output_type": "stream",
     "text": [
      "0.1\n"
     ]
    }
   ],
   "source": [
    "cm.printGraph(root, data)\n",
    "error_rate = round(cm.getErrorRate(root, data), 5)\n",
    "print(error_rate)"
   ]
  },
  {
   "cell_type": "code",
   "execution_count": 32,
   "metadata": {},
   "outputs": [
    {
     "name": "stdout",
     "output_type": "stream",
     "text": [
      "\n",
      "left data:\n",
      "   attr 1  attr 2  attr 3  attr 4  attr 5  cl\n",
      "0       1       0       0       1       1   0\n",
      "1       1       0       0       1       1   1\n",
      "\n",
      "right data:\n",
      "   attr 1  attr 2  attr 3  attr 4  attr 5  cl\n",
      "0       1       1       0       0       1   1\n"
     ]
    }
   ],
   "source": [
    "att_values = right_data_1[att_best_gain]\n",
    "\n",
    "indices = get_indices_for_att(possible_val=0, att_values=att_values)\n",
    "left_data_3 = pd.DataFrame([right_data_1.values[index] for index in indices], columns=columns)\n",
    "\n",
    "indices = get_indices_for_att(possible_val=1, att_values=att_values)\n",
    "right_data_3 = pd.DataFrame([right_data_1.values[index] for index in indices], columns=columns)\n",
    "\n",
    "print('\\nleft data:\\n' + str(left_data_3))\n",
    "print('\\nright data:\\n' + str(right_data_3))"
   ]
  },
  {
   "cell_type": "markdown",
   "metadata": {},
   "source": [
    "2.16) What happened with the error rate? Is it necessary to keep these two newly added leaves?"
   ]
  },
  {
   "cell_type": "markdown",
   "metadata": {},
   "source": [
    "2.17) Finish creating the right side of the tree"
   ]
  },
  {
   "cell_type": "code",
   "execution_count": 33,
   "metadata": {},
   "outputs": [],
   "source": [
    "gains = printInformationGain(right_data_2)"
   ]
  },
  {
   "cell_type": "markdown",
   "metadata": {},
   "source": [
    "# Part 3: automated construction of decision trees"
   ]
  },
  {
   "cell_type": "markdown",
   "metadata": {},
   "source": [
    "3.1 Complete the following function for automated construct of decision trees, so that it returns a decision tree for the given data and attribute list. Note that this is a recursive method, i.e., calls itself."
   ]
  },
  {
   "cell_type": "code",
   "execution_count": 34,
   "metadata": {},
   "outputs": [],
   "source": [
    "def _get_left_right_node(data, attributeNames, current_node):\n",
    "    gains = printInformationGain(data)\n",
    "    best_gain = gains.index(max(gains))\n",
    "    \n",
    "    att_best_gain = attributeNames[best_gain]\n",
    "    \n",
    "    if max(gains) == 0:\n",
    "        return None\n",
    "    \n",
    "    majority_classes = get_decision_value(att_best_gain, data)\n",
    "\n",
    "    left_node = Node(majority_classes[0], None, None, majority_classes[0])\n",
    "    right_node = Node(majority_classes[1], None, None, majority_classes[1])\n",
    "\n",
    "    current_node.attr = att_best_gain\n",
    "    current_node.left = left_node\n",
    "    current_node.right = right_node\n",
    "    current_node.value = None\n",
    "\n",
    "    return left_node, right_node\n",
    "\n",
    "def _get_left_right_data(data):\n",
    "    gains = printInformationGain(data)\n",
    "    best_gain = gains.index(max(gains))\n",
    "    att_best_gain = attributeNames[best_gain]\n",
    "    \n",
    "    att_values = data[att_best_gain]\n",
    "\n",
    "    indices = get_indices_for_att(possible_val=0, att_values=att_values)\n",
    "    left_data = pd.DataFrame([data.values[index] for index in indices], columns=data.columns)\n",
    "\n",
    "    indices = get_indices_for_att(possible_val=1, att_values=att_values)\n",
    "    right_data = pd.DataFrame([data.values[index] for index in indices], columns=data.columns)\n",
    "    \n",
    "    return left_data, right_data\n",
    "    \n",
    "def go_left(data, attributeNames, current_node, current_depth, max_depth):\n",
    "    \n",
    "    if current_depth == max_depth:\n",
    "        return\n",
    "    \n",
    "    try:\n",
    "        left_node, right_node = _get_left_right_node(data, attributeNames, current_node)\n",
    "        current_depth += 1\n",
    "    except: # best gain == 0, None returned\n",
    "        return\n",
    "    \n",
    "    left_data, right_data = _get_left_right_data(data)\n",
    "    \n",
    "    go_right(right_data, attributeNames, right_node, current_depth, max_depth)\n",
    "    go_left(left_data, attributeNames, left_node, current_depth, max_depth)\n",
    "\n",
    "def go_right(data, attributeNames, current_node, current_depth, max_depth):\n",
    "    \n",
    "    if current_depth == max_depth:\n",
    "        return\n",
    "    \n",
    "    try:\n",
    "        left_node, right_node = _get_left_right_node(data, attributeNames, current_node)\n",
    "        current_depth += 1\n",
    "    except: # best gain == 0, None returned\n",
    "        return\n",
    "    \n",
    "    left_data, right_data = _get_left_right_data(data)\n",
    "    \n",
    "    go_left(left_data, attributeNames, left_node, current_depth, max_depth)\n",
    "    go_right(right_data, attributeNames, right_node, current_depth, max_depth)\n",
    "\n",
    "def create_tree(data, attributeNames, max_depth=0, current_node=None, left_data=None, right_data=None):\n",
    "    data = data.reset_index().drop(\"index\", axis=1)\n",
    "    \n",
    "    left_node = None\n",
    "    right_node = None\n",
    "    \n",
    "    major = max(set(list(data['cl'].values)), key=list(data['cl'].values).count)\n",
    "    current_node = Node(0, left_node, right_node, major)\n",
    "        \n",
    "    left_node, right_node = _get_left_right_node(data, attributeNames, current_node)\n",
    "\n",
    "    current_depth = 1\n",
    "\n",
    "    left_data, right_data = _get_left_right_data(data)\n",
    "    go_left(left_data, attributeNames, current_node, current_depth, max_depth)\n",
    "\n",
    "    current_depth = 1\n",
    "    go_right(right_data, attributeNames, current_node, current_depth, max_depth)\n",
    "            \n",
    "    return current_node"
   ]
  },
  {
   "cell_type": "markdown",
   "metadata": {},
   "source": [
    "3.2) Build a decision tree for a training dataset in the common.py auxiliary file, for diffrent values of max_depth.  Calculate & compare the error rates for training and validation datasets."
   ]
  },
  {
   "cell_type": "code",
   "execution_count": 35,
   "metadata": {},
   "outputs": [],
   "source": [
    "max_depth = 10"
   ]
  },
  {
   "cell_type": "code",
   "execution_count": 36,
   "metadata": {},
   "outputs": [
    {
     "name": "stdout",
     "output_type": "stream",
     "text": [
      "validation data:\n",
      "   attr 1  attr 2  attr 3  attr 4  attr 5  attr 6  cl\n",
      "0       0       0       0       0       0       0   0\n",
      "1       0       0       0       0       0       1   0\n",
      "2       0       0       0       1       1       1   1\n",
      "3       0       1       1       0       0       1   0\n",
      "4       0       1       0       1       0       1   0\n",
      "5       1       0       0       1       1       1   1\n",
      "6       1       1       1       1       0       1   1\n",
      "7       1       1       0       1       0       1   1\n",
      "8       1       1       0       0       1       0   0\n",
      "9       0       1       1       1       1       1   1\n",
      "\n",
      "data:\n",
      "    attr 1  attr 2  attr 3  attr 4  attr 5  attr 6  cl\n",
      "0        0       0       1       1       0       1   0\n",
      "1        1       1       1       1       0       1   0\n",
      "2        0       1       1       0       1       0   1\n",
      "3        1       1       0       0       0       0   1\n",
      "4        0       1       1       1       0       1   1\n",
      "5        1       1       0       1       1       1   0\n",
      "6        1       1       1       1       1       1   0\n",
      "7        0       1       0       0       0       0   1\n",
      "8        1       0       1       0       1       1   1\n",
      "9        1       1       1       0       0       0   0\n",
      "10       0       0       1       1       0       0   0\n",
      "11       0       0       1       1       0       1   1\n",
      "12       1       1       1       0       1       1   0\n",
      "13       1       1       0       1       1       1   1\n",
      "14       0       1       0       0       0       0   0\n",
      "15       1       1       0       1       1       0   0\n",
      "16       0       1       1       0       1       1   0\n",
      "17       1       0       1       0       1       1   1\n",
      "18       1       1       0       0       0       0   0\n",
      "19       0       1       0       1       0       1   0\n",
      "\n",
      "Error rate: 0.35\n"
     ]
    }
   ],
   "source": [
    "attributeNames_val, validation_data = cm.getValidationDataSet()\n",
    "attributeNames, data = cm.getTrainingDataSet()\n",
    "\n",
    "root = create_tree(data, attributeNames, max_depth)\n",
    "\n",
    "print('validation data:\\n' + str(validation_data))\n",
    "print('\\ndata:\\n' + str(data))\n",
    "\n",
    "cm.printGraph(root, data)\n",
    "error_rate = round(cm.getErrorRate(root, data), 5)\n",
    "print('\\nError rate: ' + str(error_rate))"
   ]
  },
  {
   "cell_type": "markdown",
   "metadata": {},
   "source": [
    "3.3) Consider only the training data set and answer the following questions:\n",
    "* What is the miximum depth of the tree (consider only the training data set)?       \n",
    "* The tree building process should stop when there is no improvement in error rate (why?). Check for which value of \"max_dept\" there is no improvement in error rate. "
   ]
  },
  {
   "cell_type": "code",
   "execution_count": 38,
   "metadata": {},
   "outputs": [
    {
     "name": "stdout",
     "output_type": "stream",
     "text": [
      "\n",
      "Error rate: 0.35\n",
      "\n",
      "Error rate: 0.35\n",
      "\n",
      "Error rate: 0.4\n",
      "\n",
      "Error rate: 0.4\n",
      "\n",
      "Error rate: 0.4\n",
      "\n",
      "Error rate: 0.35\n",
      "\n",
      "Error rate: 0.35\n",
      "\n",
      "Error rate: 0.35\n",
      "\n",
      "Error rate: 0.35\n",
      "\n",
      "Error rate: 0.35\n"
     ]
    }
   ],
   "source": [
    "for i in range(10):\n",
    "    max_depth = i\n",
    "    root = create_tree(data, attributeNames, max_depth)\n",
    "    cm.printGraph(root, data, additional_name=str(i))\n",
    "    error_rate = round(cm.getErrorRate(root, data), 5)\n",
    "    print('\\nError rate: ' + str(error_rate))"
   ]
  }
 ],
 "metadata": {
  "kernelspec": {
   "display_name": "Python 3",
   "language": "python",
   "name": "python3"
  },
  "toc-autonumbering": false,
  "toc-showcode": false,
  "toc-showmarkdowntxt": true
 },
 "nbformat": 4,
 "nbformat_minor": 4
}
