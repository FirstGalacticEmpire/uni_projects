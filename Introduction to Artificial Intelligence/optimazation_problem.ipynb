{
 "cells": [
  {
   "cell_type": "markdown",
   "metadata": {},
   "source": [
    "# Travelling Salesman Problem (TSP)"
   ]
  },
  {
   "cell_type": "markdown",
   "metadata": {},
   "source": [
    "There are N cities. Given is a distance matrix M=NxN, where $M[i][j]$ is a distance from the i-th to the j-th city.\n",
    "In this exercise, we consider a symmetrical variant of TSP, i.e., $M[i][j] = M[j][i]$. Furhermore, $M[i][i] = 0$.\n",
    "The objective is to find the shortest path traversing through each city once. In other words: <br> Let s=[3,1,...,5] be some N-element permutation of indices. We want to find such a permutation that $\\sum_{k=2,...,N}M[s[k-1]][s[k]]$ is optimal (minimal)."
   ]
  },
  {
   "cell_type": "markdown",
   "metadata": {},
   "source": [
    "This exercise consists of three parts. Finish the first part to get a mark of 3.0; the first two parts for 4.0. Complete all three parts to get 5.0."
   ]
  },
  {
   "cell_type": "markdown",
   "metadata": {},
   "source": [
    "# Part 1: Evolutionary algorithm"
   ]
  },
  {
   "cell_type": "code",
   "execution_count": 10,
   "metadata": {},
   "outputs": [],
   "source": [
    "import common as cm\n",
    "import numpy as np\n",
    "import matplotlib.pyplot as plt\n",
    "%matplotlib inline"
   ]
  },
  {
   "cell_type": "markdown",
   "metadata": {},
   "source": [
    "### 1.1) Evaluation"
   ]
  },
  {
   "cell_type": "markdown",
   "metadata": {},
   "source": [
    "Complete the below function. It should evaluate an input solution (decision vector, vector of indices) in terms of TSP distance criterion. M is a distance matrix. Return the computed total distance."
   ]
  },
  {
   "cell_type": "code",
   "execution_count": 11,
   "metadata": {},
   "outputs": [
    {
     "name": "stdout",
     "output_type": "stream",
     "text": [
      "236.28476553372587\n",
      "236.28476553372587\n",
      "363.3878692639945\n"
     ]
    }
   ],
   "source": [
    "def getEvaluation(solution, M):\n",
    "    distance = 0\n",
    "    #print(M)\n",
    "    leng = len(solution)\n",
    "    for id_, city in enumerate(solution):\n",
    "        try:\n",
    "            # print(M[city][solution[id_+1]])\n",
    "            distance += M[city][solution[id_+1]]\n",
    "        except IndexError:\n",
    "            # print(M[city][solution[0]])\n",
    "            distance += M[city][solution[0]]\n",
    "    return distance\n",
    "\n",
    "M = cm.getTutorialDistanceMatrix() ### 6 CITIES\n",
    "print(getEvaluation([0,1,2,3,4,5], M)) \n",
    "print(getEvaluation([5,4,3,2,1,0], M))\n",
    "print(getEvaluation([0,2,1,3,5,4], M))\n",
    "\n",
    "### 1.2) Validation"
   ]
  },
  {
   "cell_type": "markdown",
   "metadata": {},
   "source": [
    "This function can be used to validate the solution, i.e., to check if a given solution vector is of a proper size and to check if each element is unique."
   ]
  },
  {
   "cell_type": "code",
   "execution_count": 12,
   "metadata": {},
   "outputs": [
    {
     "name": "stdout",
     "output_type": "stream",
     "text": [
      "False\n",
      "True\n",
      "False\n",
      "False\n"
     ]
    }
   ],
   "source": [
    "def isValid(solution, cities):\n",
    "    if len(solution) != cities: return False\n",
    "    s = set(solution)\n",
    "    e = set([i for i in range(cities)])\n",
    "    if s==e: return True\n",
    "    else: return False\n",
    "    \n",
    "print(isValid([0,1,2,3,4,5,6], 6)) # FALSE\n",
    "print(isValid([0,1,2,3,4,5], 6)) # TRUE\n",
    "print(isValid([0,1,2,3,4,5,5], 6)) # FALSE\n",
    "print(isValid([0,1,1,2,3,2], 6)) # FALSE"
   ]
  },
  {
   "cell_type": "markdown",
   "metadata": {},
   "source": [
    "### 1.3) Initialization"
   ]
  },
  {
   "cell_type": "markdown",
   "metadata": {},
   "source": [
    "We need to create a population of solutions. These solutions - initially - can be generated randomly. \n",
    "Firstly, complete getRandomSolution function (cities = the number of cities considered in the TSP problem).\n",
    "It should generate a random permutation of [0,1,...,cities] vector. You can use np.random.shuffle function. Then, \n",
    "finish getInitialPopulation method. It should return a populationSize-element vector of pairs [distance, solution], where a solution is a random permutation of indices, and distance = the total distance (solution evaluation). "
   ]
  },
  {
   "cell_type": "code",
   "execution_count": 13,
   "metadata": {},
   "outputs": [
    {
     "name": "stdout",
     "output_type": "stream",
     "text": [
      "[4 3 5 1 2 0] : 344.8724613607626\n",
      "[1 2 0 4 5 3] : 363.3878692639945\n",
      "[0 5 3 4 2 1] : 292.7241923105761\n",
      "[2 5 0 4 1 3] : 309.3652752520081\n",
      "[3 0 2 1 5 4] : 369.975343809964\n",
      "[5 0 2 1 3 4] : 348.36884983600095\n",
      "[0 5 2 3 1 4] : 309.36527525200813\n",
      "[0 1 4 3 5 2] : 322.0209288318988\n",
      "[0 1 3 4 5 2] : 368.02074819442726\n",
      "[4 2 0 5 1 3] : 397.7302492684498\n"
     ]
    }
   ],
   "source": [
    "def getRandomSolution(cities):\n",
    "    s = []\n",
    "    s = np.arange(cities)\n",
    "    np.random.shuffle(s)\n",
    "    return s\n",
    "def getInitialPopulation(populationSize, cities, M):\n",
    "    population = []\n",
    "    #distance=0\n",
    "    for a in range(0, populationSize):\n",
    "        random_solution = getRandomSolution(cities)\n",
    "        population.append([random_solution, getEvaluation(random_solution, M) ])\n",
    "        #distance +=getEvaluation(random_solution, M)\n",
    "    #print(distance)\n",
    "    return population\n",
    "\n",
    "def printPopulation(population):\n",
    "    for s in population:\n",
    "        print(str(s[0]) + \" : \" + str(s[1]))\n",
    "\n",
    "population = getInitialPopulation(10, 6, M)\n",
    "printPopulation(population)"
   ]
  },
  {
   "cell_type": "markdown",
   "metadata": {},
   "source": [
    "### 1.4) Sort population"
   ]
  },
  {
   "cell_type": "markdown",
   "metadata": {},
   "source": [
    "The below function should sort the population according to the distance, i.e., according to the first element of each pair. These should be ordered from the smallest to the largest.You can use .sort method and a lambda function."
   ]
  },
  {
   "cell_type": "code",
   "execution_count": 14,
   "metadata": {},
   "outputs": [
    {
     "name": "stdout",
     "output_type": "stream",
     "text": [
      "[0 5 3 4 2 1] : 292.7241923105761\n",
      "[2 5 0 4 1 3] : 309.3652752520081\n",
      "[0 5 2 3 1 4] : 309.36527525200813\n",
      "[0 1 4 3 5 2] : 322.0209288318988\n",
      "[4 3 5 1 2 0] : 344.8724613607626\n",
      "[5 0 2 1 3 4] : 348.36884983600095\n",
      "[1 2 0 4 5 3] : 363.3878692639945\n",
      "[0 1 3 4 5 2] : 368.02074819442726\n",
      "[3 0 2 1 5 4] : 369.975343809964\n",
      "[4 2 0 5 1 3] : 397.7302492684498\n"
     ]
    }
   ],
   "source": [
    "def sortPopulation(population):\n",
    "    population.sort(key=lambda x: x[1], reverse=False)\n",
    "    \n",
    "sortPopulation(population)\n",
    "printPopulation(population)"
   ]
  },
  {
   "cell_type": "markdown",
   "metadata": {},
   "source": [
    "### 1.5) Summarize the population"
   ]
  },
  {
   "cell_type": "markdown",
   "metadata": {},
   "source": [
    "The below function should compute minimum, mean, and maximum value of the total distances of solutions in the population. Return these statistics as [min, mean, max] vector. "
   ]
  },
  {
   "cell_type": "code",
   "execution_count": 15,
   "metadata": {},
   "outputs": [
    {
     "name": "stdout",
     "output_type": "stream",
     "text": [
      "[292.7241923105761, 342.583119338009, 397.7302492684498]\n"
     ]
    }
   ],
   "source": [
    "def getStats(population):\n",
    "    min_ = min(population, key=lambda x: x[1])[1]\n",
    "    max_ = max(population, key=lambda x: x[1])[1]\n",
    "    variable = np.array(population)\n",
    "    #print(variable)\n",
    "    mean = variable.sum(axis=0)[1]/len(population)\n",
    "    return [min_, mean, max_]\n",
    "\n",
    "print(getStats(population))"
   ]
  },
  {
   "cell_type": "markdown",
   "metadata": {},
   "source": [
    "### 1.6) Tournament selection of size K"
   ]
  },
  {
   "cell_type": "markdown",
   "metadata": {},
   "source": [
    "You are asked to implement a tournament for parent selection (it is assumed that the population is already sorted). Firstly, complete getParentIndices method. It should return two random indices corresponding to selected parent solutions (e.g., [3, 5] etc.). Simply generate K random integers from [0,...,populationSize] and select the smallest index (as the solutions are ordered from the best to the worst). Repeat this process twice and return a vector [index1, index2]. Then, complete getMatingPool method. Usually, matingPoolSize = population size, i.e., we wish to generate an offspring population of size populationSize and thus we need to select such many pairs of parent solutions. This metod should return a vector of these pairs, e.g., [[2, 5], [9, 2], ..., [5, 7]]. "
   ]
  },
  {
   "cell_type": "code",
   "execution_count": 16,
   "metadata": {},
   "outputs": [
    {
     "name": "stdout",
     "output_type": "stream",
     "text": [
      "10\n",
      "[3, 4]\n",
      "[[1, 2], [1, 3], [0, 2], [6, 1], [1, 3], [4, 4], [2, 4], [9, 1], [0, 0], [2, 0]]\n"
     ]
    }
   ],
   "source": [
    "def getParentIndices(populationSize, K):\n",
    "    parents = [0, 0]\n",
    "    for x in range(0, len(parents)):\n",
    "        random = np.random.randint(populationSize, size=K)\n",
    "        parents[x] = min(random)\n",
    "    return parents\n",
    "    \n",
    "def getMatingPool(matingPoolSize, populationSize, K):\n",
    "    matingPool = []\n",
    "    for x in range(0, matingPoolSize):\n",
    "        matingPool.append(getParentIndices(populationSize=populationSize, K=K))\n",
    "    return matingPool\n",
    "\n",
    "print(len(population))\n",
    "print(getParentIndices(10, 3))\n",
    "matingPool = getMatingPool(10, 10, 3)\n",
    "print(matingPool)"
   ]
  },
  {
   "cell_type": "markdown",
   "metadata": {},
   "source": [
    "How does the selection depend on K? Run the below code for different K and verify your thoughts. "
   ]
  },
  {
   "cell_type": "code",
   "execution_count": 76,
   "metadata": {},
   "outputs": [
    {
     "data": {
      "image/png": "[encoded data removed]",
      "text/plain": [
       "<Figure size 432x288 with 1 Axes>"
      ]
     },
     "metadata": {
      "needs_background": "light"
     },
     "output_type": "display_data"
    }
   ],
   "source": [
    "def testTournament(matingPoolSize, populationSize, K):\n",
    "    testMatingPool = getMatingPool(matingPoolSize, populationSize, K)\n",
    "    cm.displayHistogram(plt, np, testMatingPool, populationSize)\n",
    "    \n",
    "testTournament(10000, 10, 5)"
   ]
  },
  {
   "cell_type": "markdown",
   "metadata": {},
   "source": [
    "### 1.7) Crossover operator"
   ]
  },
  {
   "cell_type": "markdown",
   "metadata": {},
   "source": [
    "Now, you are asked to implement the crossover operator. A and B are solutions (decision vectors). Let child be a new offspring solution (decision vector) and N is the number of cities.  Assume that the first N/2 elements of the child vector = the first N/2 elements of A, while the last N/2 elements of the child vector = the last N/2 elements of B. Obviously, such constructed solution may not be valid (use isValid) method. Repair this. You can, e.g., check (i) which indices are duplicated and (ii) which indices are missing. Then, you can replace one copy of each duplicate with one random missing index. "
   ]
  },
  {
   "cell_type": "code",
   "execution_count": 18,
   "metadata": {},
   "outputs": [
    {
     "name": "stdout",
     "output_type": "stream",
     "text": [
      "[0, 1, 2, 4, 5, 3]\n"
     ]
    }
   ],
   "source": [
    "def getCrossedOver(A, B):\n",
    "    child = A.copy()\n",
    "    N = int(len(A)/2)\n",
    "    del child[N:]\n",
    "    child.extend(B[N:])\n",
    "    array = [x for x in range(0, len(A))]\n",
    "    #print(array)\n",
    "    \n",
    "    for city in child:\n",
    "        try:\n",
    "            del array[array.index(city)]\n",
    "        except ValueError:\n",
    "            continue\n",
    "    #print('Array: ', array)\n",
    "    #print('Child', child)\n",
    "    if not isValid(child, len(child)):\n",
    "        res = [idx for idx, val in enumerate(child) if val in child[:idx]] \n",
    "       # print('Res: ', res)\n",
    "        for duplicate in res:\n",
    "            random_num =  np.random.randint(len(array))\n",
    "            #print(random_num)\n",
    "            child[duplicate] = array[random_num]\n",
    "            del array[random_num]\n",
    "            #print(child)\n",
    "    #for missing_city in array:\n",
    "        \n",
    "    #print(child)\n",
    "    ### TODO\n",
    "    if isValid(child, len(child)):\n",
    "        return child\n",
    "    else:\n",
    "        print('Error in crossover function')\n",
    "\n",
    "### TEST\n",
    "print(getCrossedOver([0,1,2,3,4,5],[0,1,3,4,2,4]))"
   ]
  },
  {
   "cell_type": "markdown",
   "metadata": {},
   "source": [
    "### 1.8) Mutation operator"
   ]
  },
  {
   "cell_type": "markdown",
   "metadata": {},
   "source": [
    "Implement the mutation operator. Simply swap two random cities (indices). Apply this mutation with a certain probability (input argument)."
   ]
  },
  {
   "cell_type": "code",
   "execution_count": 19,
   "metadata": {},
   "outputs": [
    {
     "name": "stdout",
     "output_type": "stream",
     "text": [
      "[3, 1, 2, 0, 4, 5]\n",
      "[0, 1, 5, 3, 4, 2]\n",
      "[0, 1, 3, 2, 4, 5]\n"
     ]
    }
   ],
   "source": [
    "from random import sample\n",
    "def mutate(solution, probability):\n",
    "    if np.random.random() < probability:\n",
    "        #random_num = np.random.randint(len(solution), size=2)\n",
    "        random_nums = sample(solution, 2)\n",
    "        #print(random_nums)\n",
    "        solution[random_nums[0]], solution[random_nums[1]] = solution[random_nums[1]], solution[random_nums[0]]\n",
    "        return solution\n",
    "    else:\n",
    "        return solution\n",
    "for i in range(3):\n",
    "    s = [0,1,2,3,4,5]\n",
    "    mutate(s, 0.9)\n",
    "    print(s)"
   ]
  },
  {
   "cell_type": "markdown",
   "metadata": {},
   "source": [
    "### 1.9) Create offspring"
   ]
  },
  {
   "cell_type": "markdown",
   "metadata": {},
   "source": [
    "#Now, combine both operators. The below method should generate the offspring. For each pair of parent indices in matingPool, i.e., [index1, index2], take the corresponding solutions from the population22 and apply the crossover and mutation operators in order to generate a single offspring/child. Evaluate this solution, i.e., compute the total distance. Finally, add [distance, child] to children vector.   "
   ]
  },
  {
   "cell_type": "code",
   "execution_count": 20,
   "metadata": {},
   "outputs": [
    {
     "data": {
      "text/plain": [
       "[[[2, 1, 0, 3, 5, 4], 332.846094187771],\n",
       " [[5, 2, 0, 3, 1, 4], 404.34753635628914],\n",
       " [[5, 0, 3, 2, 1, 4], 272.6115536955877],\n",
       " [[1, 2, 4, 0, 5, 3], 349.9479173857651],\n",
       " [[4, 5, 0, 3, 2, 1], 272.61155369558776],\n",
       " [[1, 3, 5, 4, 2, 0], 374.0409515244862],\n",
       " [[0, 5, 2, 4, 3, 1], 354.58079631619785],\n",
       " [[4, 2, 0, 5, 3, 1], 370.2458378091532],\n",
       " [[4, 5, 3, 0, 2, 1], 342.49093235066744],\n",
       " [[0, 5, 4, 2, 3, 1], 304.16157286940654]]"
      ]
     },
     "execution_count": 20,
     "metadata": {},
     "output_type": "execute_result"
    }
   ],
   "source": [
    "def getOffspring(population, matingPool, mutationProbability, M):\n",
    "    children = []\n",
    "    #print(matingPool)\n",
    "    for  parents in matingPool:\n",
    "#         print(parents)\n",
    "#         print(len(population))\n",
    "#         print(population[parents[0]])\n",
    "#         print(population[parents[1]])\n",
    "        #print(list(population[parents[0]][0]))\n",
    "        child = getCrossedOver(list(population[parents[0]][0]), list(population[parents[1]][0]))\n",
    "        #print(child)\n",
    "        child = mutate(child, mutationProbability)\n",
    "        #children.append(child)\n",
    "        child = [child, getEvaluation(child, M=M)]\n",
    "        children.append(child)\n",
    "        #print()\n",
    "    return children\n",
    "    print(children)\n",
    "getOffspring(population, matingPool, mutationProbability=0.9, M=M)"
   ]
  },
  {
   "cell_type": "markdown",
   "metadata": {},
   "source": [
    "### 1.10) Evolutionary Algorithm"
   ]
  },
  {
   "cell_type": "raw",
   "metadata": {},
   "source": [
    "Now, you are asked to combine all the previously completed methods into an evolutionary algorithm. This is the outline of the algorithm: <br>\n",
    "1) Create an initial population of size \"populationSize\" <br>\n",
    "2) Sort the population <br>\n",
    "3) Construct a mating pool <br>\n",
    "4) Generate an offspring of size \"populationSize\" <br>\n",
    "5) Merge the current population and the offspring <br>\n",
    "6) Sort such merged population <br>\n",
    "7) Remove the worst half of the population <br>\n",
    "8) Go to (2) until the stopping criterion is not meet (repeat for the assumed number of generations) <br>\n",
    "\n",
    "In each generation, compute & display the statistics concerning the current population. Finally, what is the best solution found by the method? Rerun the method for different parameters (e.g., population size) and check if you can improve the result."
   ]
  },
  {
   "cell_type": "code",
   "execution_count": 21,
   "metadata": {},
   "outputs": [
    {
     "name": "stdout",
     "output_type": "stream",
     "text": [
      "[247.50867124638637, 288.55742828539735, 310.3100225570646]\n",
      "[247.50867124638637, 257.8764179692523, 300.6651843941682]\n",
      "[247.50867124638637, 247.5086712463863, 247.50867124638637]\n",
      "[247.50867124638637, 247.5086712463863, 247.50867124638637]\n",
      "[247.50867124638637, 247.5086712463863, 247.50867124638637]\n",
      "[247.50867124638637, 247.5086712463863, 247.50867124638637]\n",
      "[247.50867124638637, 247.5086712463863, 247.50867124638637]\n",
      "[247.50867124638637, 247.5086712463863, 247.50867124638637]\n",
      "[247.50867124638637, 247.5086712463863, 247.50867124638637]\n",
      "[247.50867124638637, 247.5086712463863, 247.50867124638637]\n",
      "[247.50867124638637, 247.5086712463863, 247.50867124638637]\n",
      "[247.50867124638637, 247.5086712463863, 247.50867124638637]\n",
      "[247.50867124638637, 247.5086712463863, 247.50867124638637]\n",
      "[247.50867124638637, 247.5086712463863, 247.50867124638637]\n",
      "[247.50867124638637, 247.5086712463863, 247.50867124638637]\n",
      "[247.50867124638637, 247.5086712463863, 247.50867124638637]\n",
      "[247.50867124638637, 247.5086712463863, 247.50867124638637]\n",
      "[247.50867124638637, 247.5086712463863, 247.50867124638637]\n",
      "[247.50867124638637, 247.5086712463863, 247.50867124638637]\n",
      "[247.50867124638637, 247.5086712463863, 247.50867124638637]\n",
      "[247.50867124638637, 247.5086712463863, 247.50867124638637]\n",
      "[247.50867124638637, 247.5086712463863, 247.50867124638637]\n",
      "[247.50867124638637, 247.5086712463863, 247.50867124638637]\n",
      "[247.50867124638637, 247.5086712463863, 247.50867124638637]\n",
      "[247.50867124638637, 247.5086712463863, 247.50867124638637]\n",
      "[247.50867124638637, 247.5086712463863, 247.50867124638637]\n",
      "[247.50867124638637, 247.5086712463863, 247.50867124638637]\n",
      "[247.50867124638637, 247.5086712463863, 247.50867124638637]\n",
      "[247.50867124638637, 247.5086712463863, 247.50867124638637]\n",
      "[247.50867124638637, 247.5086712463863, 247.50867124638637]\n",
      "[247.50867124638637, 247.5086712463863, 247.50867124638637]\n",
      "[247.50867124638637, 247.5086712463863, 247.50867124638637]\n",
      "[247.50867124638637, 247.5086712463863, 247.50867124638637]\n",
      "[247.50867124638637, 247.5086712463863, 247.50867124638637]\n",
      "[247.50867124638637, 247.5086712463863, 247.50867124638637]\n",
      "[247.50867124638637, 247.5086712463863, 247.50867124638637]\n",
      "[247.50867124638637, 247.5086712463863, 247.50867124638637]\n",
      "[247.50867124638637, 247.5086712463863, 247.50867124638637]\n",
      "[247.50867124638637, 247.5086712463863, 247.50867124638637]\n",
      "[247.50867124638637, 247.5086712463863, 247.50867124638637]\n",
      "[247.50867124638637, 247.5086712463863, 247.50867124638637]\n",
      "[247.50867124638637, 247.5086712463863, 247.50867124638637]\n",
      "[247.50867124638637, 247.5086712463863, 247.50867124638637]\n",
      "[247.50867124638637, 247.5086712463863, 247.50867124638637]\n",
      "[247.50867124638637, 247.5086712463863, 247.50867124638637]\n",
      "[247.50867124638637, 247.5086712463863, 247.50867124638637]\n",
      "[247.50867124638637, 247.5086712463863, 247.50867124638637]\n",
      "[247.50867124638637, 247.5086712463863, 247.50867124638637]\n",
      "[247.50867124638637, 247.5086712463863, 247.50867124638637]\n",
      "[247.50867124638637, 247.5086712463863, 247.50867124638637]\n"
     ]
    }
   ],
   "source": [
    "costMatrix = cm.getTutorialDistanceMatrix()  ### 6 CITIES\n",
    "#print(costMatrix)\n",
    "cities = 6\n",
    "mutationProbability = 1.0 / 6.0\n",
    "populationSize = 20\n",
    "generations = 50\n",
    "\n",
    "population = getInitialPopulation(populationSize, cities, costMatrix)\n",
    "sortPopulation(population)\n",
    "#print(population)\n",
    "new_generation =  False\n",
    "a =0\n",
    "for g in range(0, generations):\n",
    "    if new_generation:\n",
    "        population = new_generation\n",
    "    else:\n",
    "        population = population\n",
    "    mating_pool = getMatingPool(matingPoolSize=len(population), populationSize=len(population), K=3)\n",
    "#     print(mating_pool)\n",
    "#     print(len(mating_pool))\n",
    "    try:\n",
    "        \n",
    "        off_spring = getOffspring(population=population, matingPool=mating_pool, mutationProbability=mutationProbability, M=costMatrix)\n",
    "        #print('asd')\n",
    "        a+= 1\n",
    "    except:\n",
    "        break\n",
    "        print(len(population), len(mating_pool))\n",
    "    new_generation = population + off_spring\n",
    "    sortPopulation(new_generation)\n",
    "    new_generation = new_generation[:int(len(new_generation)/2)]\n",
    "    for object_ in new_generation: #needed because of my shittty code\n",
    "            object_[0] = list(object_[0]) \n",
    "    print(getStats(new_generation))\n",
    "   # print(new_generation)\n",
    "#print(getStats(new_generation))\n",
    "#print(a)"
   ]
  },
  {
   "cell_type": "markdown",
   "metadata": {},
   "source": [
    "# Part 2: Visualization of convergence"
   ]
  },
  {
   "cell_type": "markdown",
   "metadata": {},
   "source": [
    "2.1) Now, change the data set (distance matrix) to cm.getLargeDistanceMatrix. This instance concerns 15 cities. Run the evolutionary algorithm with a population size of 20 and the number of generation of 200 (and suitably adjust the mutation probability - 1.0/15.0). In each generation, store the statistics (min, mean, and max distances found, in, respectively, Y_MIN, Y_MEAN, Y_MAX). Then, use cm.plotConvergence(plt, X, Y_MIN, Y_MEAN, Y_MAX) to display the convergence plot. Rerun the code for different parameters and observe the results. What is the best value (distance) you could find (print)?"
   ]
  },
  {
   "cell_type": "code",
   "execution_count": 22,
   "metadata": {},
   "outputs": [
    {
     "data": {
      "image/png": "[encoded data removed]",
      "text/plain": [
       "<Figure size 432x288 with 1 Axes>"
      ]
     },
     "metadata": {
      "needs_background": "light"
     },
     "output_type": "display_data"
    }
   ],
   "source": [
    "def one_run(print_plot=True, return_=False, populationSize = 20, tournamentSize = 3):\n",
    "    costMatrix = cm.getLargeDistanceMatrix()  ### 6 CITIES\n",
    "    # print(costMatrix)\n",
    "    cities = 15\n",
    "    mutationProbability = 1.0 / 15.0\n",
    "    generations = 200\n",
    "    X = [x for x in  range(0, 201)]\n",
    "    #print(X)# ????\n",
    "    Y_MIN = []\n",
    "    Y_MEAN = []\n",
    "    Y_MAX = []\n",
    "    population = getInitialPopulation(populationSize, cities, costMatrix)\n",
    "    sortPopulation(population)\n",
    "    #print(population)\n",
    "    new_generation = False\n",
    "    stats = getStats(population=population)\n",
    "    Y_MIN.append(stats[0])\n",
    "    Y_MEAN.append(stats[1])\n",
    "    Y_MAX.append(stats[2])\n",
    "    #print(len(population))\n",
    "    #print(stats)\n",
    "    #print(len(population))\n",
    "    for g in range(0, 200):\n",
    "        if new_generation:\n",
    "            population = new_generation\n",
    "        else:\n",
    "            population = population\n",
    "        mating_pool = getMatingPool(matingPoolSize=len(population), populationSize=len(population), K=tournamentSize)\n",
    "        try:\n",
    "            off_spring = getOffspring(population=population, matingPool=mating_pool,\n",
    "                                  mutationProbability=mutationProbability, M=costMatrix)\n",
    "        except:\n",
    "            print('ERRRRRRRRRRRRRRRRRRRRRRRRRRRRRORRRRR')\n",
    "            print(len(mating_pool),  mating_pool)\n",
    "\n",
    "        # print(off_spring)\n",
    "        new_generation = population + off_spring\n",
    "        sortPopulation(new_generation)\n",
    "        new_generation = new_generation[:int(len(new_generation) / 2)]\n",
    "        #print(new_generation)\n",
    "        \n",
    "        for object_ in new_generation: #needed because of our shittty code\n",
    "            object_[0] = list(object_[0]) \n",
    "    \n",
    "        #print(new_generation)\n",
    "        #print(len(new_generation))\n",
    "        try:\n",
    "            stats = getStats(population=new_generation)\n",
    "        except:\n",
    "            #print(new_generation)\n",
    "            break\n",
    "            \n",
    "        Y_MIN.append(stats[0])\n",
    "        Y_MEAN.append(stats[1])\n",
    "        Y_MAX.append(stats[2])\n",
    "        #print(stats)\n",
    "        #print(new_generation)\n",
    "    #print(new_generation)\n",
    "    if  print_plot:\n",
    "        #print('asdasdasd', len(population), len(new_generation))\n",
    "        #print(len(X), len(Y_MIN), len(Y_MEAN), len(Y_MAX))\n",
    "        cm.plotConvergence(plt, X, Y_MIN, Y_MEAN, Y_MAX)\n",
    "    if return_:\n",
    "        return Y_MIN, Y_MEAN, Y_MAX\n",
    "    \n",
    "one_run()"
   ]
  },
  {
   "cell_type": "markdown",
   "metadata": {},
   "source": [
    "2.2) Each time you rerun the code, while keeping the paramet values fixed, the results my slightly change. This is due to the random nature of evolutionary algorithms. Hence, in order to get the reliable results, the method must be run several times and the results have to be averaged. Do the following:<br>\n",
    "- run the method 20 times <br>\n",
    "- in each run: capture the best result found  throughout evolutionary search (i.e., in each generation) <br>\n",
    "- for each generation: find min, mean, and max value over 20 independent runs <br>\n",
    "- use cm.plotConvergence to display the convergence\n",
    "- print the best value ever found "
   ]
  },
  {
   "cell_type": "code",
   "execution_count": 67,
   "metadata": {},
   "outputs": [
    {
     "name": "stdout",
     "output_type": "stream",
     "text": [
      "349.74065153140987\n"
     ]
    },
    {
     "data": {
      "image/png": "[encoded data removed]",
      "text/plain": [
       "<Figure size 432x288 with 1 Axes>"
      ]
     },
     "metadata": {
      "needs_background": "light"
     },
     "output_type": "display_data"
    }
   ],
   "source": [
    "X = [x for x in  range(0, 201)]\n",
    "def alotofruns(printPlot=True, return_=False, populationSize = 20, tournamentSize=3):\n",
    "    Y_MIN = [[] for h in range(0, 201)]\n",
    "    Y_MEAN = [[] for h in range(0, 201)]\n",
    "    Y_MAX = [[] for h in range(0, 201)]\n",
    "    Y_MIN_special = []\n",
    "\n",
    "    for g in range(0, 20):\n",
    "        min_, mean_, max_ = one_run(print_plot=False, return_=True, populationSize=populationSize, tournamentSize=tournamentSize)\n",
    "        Y_MIN_special = Y_MIN_special + min_\n",
    "        for id_, min__,  mean__, max__ in zip([x for x in range(0,200)], min_,  mean_, max_):\n",
    "            Y_MIN[id_].append(min__)\n",
    "            Y_MEAN[id_].append(mean__)\n",
    "            Y_MAX[id_].append(max__)\n",
    "\n",
    "#     for id_, object_  in enumerate(Y_MIN):\n",
    "#         Y_MIN[id_] = np.average(object_)\n",
    "#     for id_, object_  in enumerate(Y_MEAN):\n",
    "#         Y_MEAN[id_] = np.average(object_)\n",
    "#     for id_, object_  in enumerate(Y_MAX):\n",
    "#         Y_MAX[id_] = np.average(object_)\n",
    "    y_min2 = []\n",
    "    y_mean2 = []\n",
    "    y_max2 = []\n",
    "    for id_, object_  in enumerate(Y_MIN[:200]):\n",
    "        y_min2.append(min(object_))\n",
    "    for id_, object_  in enumerate(Y_MEAN[:200]):\n",
    "        Y_MEAN[id_] = np.average(object_)\n",
    "    for id_, object_  in enumerate(Y_MAX[:200]):\n",
    "        y_max2.append(max(object_))\n",
    "    \n",
    "    if  printPlot:\n",
    "        #print(len(X), len(y_min2), len(Y_MEAN), len(y_max2))\n",
    "        print(min(Y_MIN_special))\n",
    "        cm.plotConvergence(plt, X[:200], y_min2[:200], Y_MEAN[:200], y_max2[:200])\n",
    "    if return_:\n",
    "        return y_min2[:200], Y_MEAN[:200], y_max2[:200]\n",
    "        #return Y_MIN, Y_MEAN, Y_MAX\n",
    "\n",
    "alotofruns(return_=False)\n",
    "\n"
   ]
  },
  {
   "cell_type": "markdown",
   "metadata": {},
   "source": [
    "# Part 3: Impact of different parameter values on the optimization"
   ]
  },
  {
   "cell_type": "markdown",
   "metadata": {},
   "source": [
    "In this exercise, you are asked to check how the method performs when involving different parameter values. Firtly, we wish to plot several convergence plots in a single chart. For this reason, you may copy & paste the cm.plotConvergence function (from common.py) and modify it. Then, copy & paste the code you completed in the previous exercise (the one which averages 20 trial runs). Then: <br>\n",
    "- Firsty, evaluate the performance in terms of different population sizes. Specifically, check how the method performs for the population size = 5, 10, 20, and 50. Display 4 convergence plots in a signle chart. \n",
    "- Secondly, evaluate the performance in terms of different tournament sizes. Specifically, check how the method performs for the tournament size = 1, 2, 5, and 15. Display 4 convergence plots in a signle chart. "
   ]
  },
  {
   "cell_type": "code",
   "execution_count": 49,
   "metadata": {},
   "outputs": [
    {
     "name": "stdout",
     "output_type": "stream",
     "text": [
      "Error while drawing the plot\n",
      "Done\n"
     ]
    }
   ],
   "source": [
    "X = [x for x in  range(0, 201)]\n",
    "Y_MIN, Y_MEAN, Y_MAX =  one_run(print_plot=False, return_=True)\n",
    "def plotConvergence2(plt, X, Y_MINs, Y_MEANs, Y_MAXs):\n",
    "    colors = ['black', 'red', 'yellow', 'blue']\n",
    "    \n",
    "    if len(colors) == len(Y_MINs):\n",
    "        fig, ax = plt.subplots(1, 1)\n",
    "        for color, y_min, y_mean, y_max in zip(colors, Y_MINs, Y_MEANs, Y_MAXs):\n",
    "            ax.fill_between(X, y_min, y_max, facecolor=color, alpha=0.5)\n",
    "            ax.plot(X, y_mean, linestyle='-', color=color)\n",
    "        plt.xlabel('Generation')\n",
    "        plt.ylabel('Total distance')\n",
    "        plt.grid(True)\n",
    "        \n",
    "    else:\n",
    "        print('Error while drawing the plot')\n",
    "    #ax.plot(X, Y_MEAN2, linestyle='-', color='red')\n",
    "\n",
    "plotConvergence2(plt, X, Y_MIN, Y_MEAN, Y_MAX)\n",
    "print('Done')"
   ]
  },
  {
   "cell_type": "code",
   "execution_count": 68,
   "metadata": {
    "scrolled": false
   },
   "outputs": [
    {
     "name": "stdout",
     "output_type": "stream",
     "text": [
      "Black: 5, Red:  10, Yellow: 20,  Blue: 50\n"
     ]
    },
    {
     "data": {
      "image/png": "[encoded data removed]",
      "text/plain": [
       "<Figure size 432x288 with 1 Axes>"
      ]
     },
     "metadata": {
      "needs_background": "light"
     },
     "output_type": "display_data"
    }
   ],
   "source": [
    "X = [x for x in  range(0, 200)]\n",
    "populationSizes = [5, 10, 20, 50]\n",
    "Y_MINs = []\n",
    "Y_MEANs = []\n",
    "Y_MAXs = []\n",
    "print('Black: 5, Red:  10, Yellow: 20,  Blue: 50')\n",
    "for populationSize in populationSizes:\n",
    "    y_min, y_mean, y_max = alotofruns(printPlot=False, return_=True, populationSize = populationSize)\n",
    "    Y_MINs.append(y_min)\n",
    "    Y_MEANs.append(y_mean)\n",
    "    Y_MAXs.append(y_max)\n",
    "    \n",
    "plotConvergence2(plt, X, Y_MINs, Y_MEANs, Y_MAXs)\n",
    "\n"
   ]
  },
  {
   "cell_type": "code",
   "execution_count": 69,
   "metadata": {},
   "outputs": [
    {
     "name": "stdout",
     "output_type": "stream",
     "text": [
      "Black: 1, Red:  2, Yellow: 5,  Blue: 15\n"
     ]
    },
    {
     "data": {
      "image/png": "[encoded data removed]",
      "text/plain": [
       "<Figure size 432x288 with 1 Axes>"
      ]
     },
     "metadata": {
      "needs_background": "light"
     },
     "output_type": "display_data"
    }
   ],
   "source": [
    "X = [x for x in  range(0, 201)]\n",
    "tournamentSizes = [1, 2, 5, 15]\n",
    "Y_MINs = []\n",
    "Y_MEANs = []\n",
    "Y_MAXs = []\n",
    "print('Black: 1, Red:  2, Yellow: 5,  Blue: 15')\n",
    "for tournamentSize in tournamentSizes:\n",
    "    y_min, y_mean, y_max = alotofruns(printPlot=False, return_=True, tournamentSize=tournamentSize)\n",
    "    Y_MINs.append(y_min)\n",
    "    Y_MEANs.append(y_mean)\n",
    "    Y_MAXs.append(y_max)\n",
    "plotConvergence2(plt, X[:200], Y_MINs, Y_MEANs, Y_MAXs)"
   ]
  }
 ],
 "metadata": {
  "kernelspec": {
   "display_name": "Python 3",
   "language": "python",
   "name": "python3"
  },
  "language_info": {
   "codemirror_mode": {
    "name": "ipython",
    "version": 3
   },
   "file_extension": ".py",
   "mimetype": "text/x-python",
   "name": "python",
   "nbconvert_exporter": "python",
   "pygments_lexer": "ipython3",
   "version": "3.7.4"
  }
 },
 "nbformat": 4,
 "nbformat_minor": 2
}
